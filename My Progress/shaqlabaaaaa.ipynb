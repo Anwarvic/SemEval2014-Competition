{
 "cells": [
  {
   "cell_type": "markdown",
   "metadata": {},
   "source": [
    "\n",
    "# <font color='green'>sentiment Analysis</font> ![title](./resources/img/sent_twitter.png)"
   ]
  },
  {
   "cell_type": "markdown",
   "metadata": {},
   "source": [
    "## <font color='red'>Reading Data</font>\n",
    "***"
   ]
  },
  {
   "cell_type": "markdown",
   "metadata": {},
   "source": [
    "#### Import liberies\n",
    "\n",
    "Refer to the web pages for individual libraries\n",
    "* [Pandas](http://pandas.pydata.org/), to load and manage data\n",
    "* [Matplotlib](http://matplotlib.org/), for visualization\n",
    "* [numpy](http://www.numpy.org/) for painting representation and manipulation\n",
    "* [re](https://docs.python.org/3/library/re.html) for regular expression\n",
    "* [nltk](http://www.nltk.org/) for pretreatment"
   ]
  },
  {
   "cell_type": "code",
   "execution_count": 4,
   "metadata": {
    "collapsed": false
   },
   "outputs": [
    {
     "name": "stdout",
     "output_type": "stream",
     "text": [
      "love_you bich\n"
     ]
    }
   ],
   "source": [
    "import re\n",
    "\n",
    "tweet = '#love_you bich'\n",
    "print(re.sub(r'#', '', tweet))"
   ]
  },
  {
   "cell_type": "code",
   "execution_count": 1,
   "metadata": {
    "collapsed": false
   },
   "outputs": [],
   "source": [
    "import pandas as pd\n",
    "import re\n",
    "import os\n",
    "from copy import copy\n",
    "import collections\n",
    "import scipy\n",
    "import numpy as np\n",
    "import matplotlib.pyplot as plt\n",
    "import nltk\n",
    "from nltk.tokenize import TweetTokenizer\n",
    "from nltk.stem import WordNetLemmatizer\n",
    "from nltk.corpus import stopwords\n",
    "\n",
    "from sklearn import metrics\n",
    "from sklearn.svm import SVC\n",
    "from sklearn import model_selection\n",
    "\n",
    "%matplotlib inline"
   ]
  },
  {
   "cell_type": "markdown",
   "metadata": {},
   "source": [
    "#### Reading the dataset\n",
    "Some of the data \"downloaded_cleansed_B\" is produced out of the \"downloaded_cleansed_A\". The difference is:\n",
    "- \"downloaded_cleansed_A\" has three columns that we won't use.\n",
    "- \"downloaded_cleansed_A\" has repeatted tweets."
   ]
  },
  {
   "cell_type": "code",
   "execution_count": 2,
   "metadata": {
    "collapsed": false,
    "scrolled": true
   },
   "outputs": [
    {
     "name": "stdout",
     "output_type": "stream",
     "text": [
      "(9665, 4)\n"
     ]
    },
    {
     "data": {
      "text/html": [
       "<div>\n",
       "<table border=\"1\" class=\"dataframe\">\n",
       "  <thead>\n",
       "    <tr style=\"text-align: right;\">\n",
       "      <th></th>\n",
       "      <th>0</th>\n",
       "      <th>1</th>\n",
       "      <th>2</th>\n",
       "      <th>3</th>\n",
       "    </tr>\n",
       "  </thead>\n",
       "  <tbody>\n",
       "    <tr>\n",
       "      <th>0</th>\n",
       "      <td>264183816548130816</td>\n",
       "      <td>15140428</td>\n",
       "      <td>positive</td>\n",
       "      <td>Gas by my house hit $3.39!!!! I'm going to Cha...</td>\n",
       "    </tr>\n",
       "    <tr>\n",
       "      <th>1</th>\n",
       "      <td>263405084770172928</td>\n",
       "      <td>591166521</td>\n",
       "      <td>negative</td>\n",
       "      <td>Not Available</td>\n",
       "    </tr>\n",
       "    <tr>\n",
       "      <th>2</th>\n",
       "      <td>262163168678248449</td>\n",
       "      <td>35266263</td>\n",
       "      <td>negative</td>\n",
       "      <td>Not Available</td>\n",
       "    </tr>\n",
       "    <tr>\n",
       "      <th>3</th>\n",
       "      <td>264249301910310912</td>\n",
       "      <td>18516728</td>\n",
       "      <td>negative</td>\n",
       "      <td>Iranian general says Israel's Iron Dome can't ...</td>\n",
       "    </tr>\n",
       "    <tr>\n",
       "      <th>4</th>\n",
       "      <td>262682041215234048</td>\n",
       "      <td>254373818</td>\n",
       "      <td>neutral</td>\n",
       "      <td>Not Available</td>\n",
       "    </tr>\n",
       "  </tbody>\n",
       "</table>\n",
       "</div>"
      ],
      "text/plain": [
       "                    0          1         2  \\\n",
       "0  264183816548130816   15140428  positive   \n",
       "1  263405084770172928  591166521  negative   \n",
       "2  262163168678248449   35266263  negative   \n",
       "3  264249301910310912   18516728  negative   \n",
       "4  262682041215234048  254373818   neutral   \n",
       "\n",
       "                                                   3  \n",
       "0  Gas by my house hit $3.39!!!! I'm going to Cha...  \n",
       "1                                      Not Available  \n",
       "2                                      Not Available  \n",
       "3  Iranian general says Israel's Iron Dome can't ...  \n",
       "4                                      Not Available  "
      ]
     },
     "execution_count": 2,
     "metadata": {},
     "output_type": "execute_result"
    }
   ],
   "source": [
    "df = pd.read_csv('./data/train/downloaded_cleansed_B.tsv', sep= '\\t', header=None)\n",
    "print (df.shape)\n",
    "df.head()"
   ]
  },
  {
   "cell_type": "markdown",
   "metadata": {},
   "source": [
    "Note that some tweets are \"Not Available\". We will reject them because it will not help in the analysis of feelings"
   ]
  },
  {
   "cell_type": "markdown",
   "metadata": {},
   "source": [
    "#### Supprimer tous les tweets \"NOT AVAILABLE\""
   ]
  },
  {
   "cell_type": "code",
   "execution_count": 3,
   "metadata": {
    "collapsed": false
   },
   "outputs": [
    {
     "data": {
      "text/html": [
       "<div>\n",
       "<table border=\"1\" class=\"dataframe\">\n",
       "  <thead>\n",
       "    <tr style=\"text-align: right;\">\n",
       "      <th></th>\n",
       "      <th>0</th>\n",
       "      <th>1</th>\n",
       "      <th>2</th>\n",
       "      <th>3</th>\n",
       "    </tr>\n",
       "  </thead>\n",
       "  <tbody>\n",
       "    <tr>\n",
       "      <th>0</th>\n",
       "      <td>264183816548130816</td>\n",
       "      <td>15140428</td>\n",
       "      <td>positive</td>\n",
       "      <td>Gas by my house hit $3.39!!!! I'm going to Cha...</td>\n",
       "    </tr>\n",
       "    <tr>\n",
       "      <th>3</th>\n",
       "      <td>264249301910310912</td>\n",
       "      <td>18516728</td>\n",
       "      <td>negative</td>\n",
       "      <td>Iranian general says Israel's Iron Dome can't ...</td>\n",
       "    </tr>\n",
       "    <tr>\n",
       "      <th>6</th>\n",
       "      <td>264105751826538497</td>\n",
       "      <td>147088367</td>\n",
       "      <td>positive</td>\n",
       "      <td>with J Davlar 11th. Main rivals are team Polan...</td>\n",
       "    </tr>\n",
       "    <tr>\n",
       "      <th>7</th>\n",
       "      <td>264094586689953794</td>\n",
       "      <td>332474633</td>\n",
       "      <td>negative</td>\n",
       "      <td>Talking about ACT's &amp;amp;&amp;amp; SAT's, deciding...</td>\n",
       "    </tr>\n",
       "    <tr>\n",
       "      <th>9</th>\n",
       "      <td>254941790757601280</td>\n",
       "      <td>557103111</td>\n",
       "      <td>negative</td>\n",
       "      <td>They may have a SuperBowl in Dallas, but Dalla...</td>\n",
       "    </tr>\n",
       "  </tbody>\n",
       "</table>\n",
       "</div>"
      ],
      "text/plain": [
       "                    0          1         2  \\\n",
       "0  264183816548130816   15140428  positive   \n",
       "3  264249301910310912   18516728  negative   \n",
       "6  264105751826538497  147088367  positive   \n",
       "7  264094586689953794  332474633  negative   \n",
       "9  254941790757601280  557103111  negative   \n",
       "\n",
       "                                                   3  \n",
       "0  Gas by my house hit $3.39!!!! I'm going to Cha...  \n",
       "3  Iranian general says Israel's Iron Dome can't ...  \n",
       "6  with J Davlar 11th. Main rivals are team Polan...  \n",
       "7  Talking about ACT's &amp;&amp; SAT's, deciding...  \n",
       "9  They may have a SuperBowl in Dallas, but Dalla...  "
      ]
     },
     "execution_count": 3,
     "metadata": {},
     "output_type": "execute_result"
    }
   ],
   "source": [
    "df = df[df[3] != \"Not Available\"]\n",
    "df.head()"
   ]
  },
  {
   "cell_type": "code",
   "execution_count": 4,
   "metadata": {
    "collapsed": false
   },
   "outputs": [
    {
     "data": {
      "text/plain": [
       "(7205, 4)"
      ]
     },
     "execution_count": 4,
     "metadata": {},
     "output_type": "execute_result"
    }
   ],
   "source": [
    "df.shape"
   ]
  },
  {
   "cell_type": "markdown",
   "metadata": {},
   "source": [
    "#### <font color='blue'>Training tweets are too limited: just 7205 tweets ...</font>"
   ]
  },
  {
   "cell_type": "code",
   "execution_count": 5,
   "metadata": {
    "collapsed": false,
    "scrolled": true
   },
   "outputs": [],
   "source": [
    "raw_tweets = list(df[3])\n",
    "labels = df[2]"
   ]
  },
  {
   "cell_type": "code",
   "execution_count": 6,
   "metadata": {
    "collapsed": false
   },
   "outputs": [
    {
     "name": "stdout",
     "output_type": "stream",
     "text": [
      "Gas by my house hit $3.39!!!! I'm going to Chapel Hill on Sat. :)\n",
      "\n",
      "\n",
      "Iranian general says Israel's Iron Dome can't deal with their missiles (keep talking like that and we may end up finding out)\n",
      "\n",
      "\n",
      "with J Davlar 11th. Main rivals are team Poland. Hopefully we an make it a successful end to a tough week of training tomorrow.\n",
      "\n",
      "\n",
      "Talking about ACT's &amp;&amp; SAT's, deciding where I want to go to college, applying to colleges and everything about college stresses me out.\n",
      "\n",
      "\n",
      "They may have a SuperBowl in Dallas, but Dallas ain't winning a SuperBowl. Not with that quarterback and owner. @S4NYC @RasmussenPoll\n",
      "\n",
      "\n",
      "Im bringing the monster load of candy tomorrow, I just hope it doesn't get all squiched\n",
      "\n",
      "\n",
      "Apple software, retail chiefs out in overhaul: SAN FRANCISCO Apple Inc CEO Tim Cook on Monday replaced the heads... http://t.co/X49ZEOsG\n",
      "\n",
      "\n",
      "@oluoch @victor_otti @kunjand I just watched it! Sridevi's comeback.... U remember her from the 90s?? Sun mornings on NTA ;)\n",
      "\n",
      "\n",
      "#Livewire Nadal confirmed for Mexican Open in February: Rafael Nadal is set to play at the Me... http://t.co/zgUXpcnC #LiveWireAthletics\n",
      "\n",
      "\n",
      "@MsSheLahY I didnt want to just pop up... but yep we have chapel hill next wednesday you should come.. and shes great ill tell her you asked\n",
      "\n",
      "\n",
      "@Alyoup005 @addicted2haley hmmmm  November is an odd release date if true but if it becomes big enough maybe she could sing it at Grammys\n",
      "\n",
      "\n",
      "#Iran US delisting MKO from global terrorists list in line with Iran campaign: Tehran, Oct 30, IRNA -- Secretary... http://t.co/9wWvxEbf\n",
      "\n",
      "\n",
      "Good Morning Becky ! Thursday is going to be Fantastic ! @SwedenG @DJ4JG @Grdina @Paverlayer @FSBull @RevkahJC @DicksTrash @borderfox116\n",
      "\n",
      "\n",
      "Expect light-moderate rains over E. Visayas; Cebu, Bohol, Samar &amp; Leyte have 30-70% chance of rains tonight! Expect fair weather tomorrow!:)\n",
      "\n",
      "\n",
      "One ticket left for the @49ers game tomorrow!  Don't miss the rematch of the NFC Championship game against the NY Giants!  Hit me up!\n",
      "\n",
      "\n",
      "AFC away fans on Saturday. All this stuff about the 'she said no' chant. It's bollocks. When he has the ball, just turn your back on him.\n",
      "\n",
      "\n",
      "Why is it so hard to find the @TVGuideMagazine these days? Went to 3 stores for the Castle cover issue. NONE. Will search again tomorrow...\n",
      "\n",
      "\n",
      "Game 1 of the NLCS and a rematch of the NFC Championship game tomorrow. SF's gonna be cuuuuhraaaaaaaazeeeee\n",
      "\n",
      "\n",
      "@TrevorJavier the heat game may cost alot more...and plus I would rather see Austin Rivers play\n",
      "\n",
      "\n",
      "Never start working on your dreams and goals tomorrow......tomorrow never comes....if it means anything to U, ACT NOW! #getafterit\n",
      "\n",
      "\n",
      "@TheFFAddict I had Vick and Flacco, needed an upgrade.  Vick may get benched, Jennings a back up again soon. I thought it was a win for me.\n",
      "\n",
      "\n",
      "Looks like Andy the Android may have had a little too much fun yesterday. http://t.co/7ZDEfzEC\n",
      "\n",
      "\n",
      "@APGPhoto oooh nice .. Tis tempting to go up the lakes with my Nikon ...  Hmmmm I may do that ..\n",
      "\n",
      "\n",
      "BLACK FRIDAY Huge Saving Aerial View of a City, Paris Las Vegas, the Las Vegas Strip, Las Vegas,... http://t.co/DCTgeSED\n",
      "\n",
      "\n",
      "@MelmurMel @PBandJenelley_1 @vl_delp_ham_ Jenelle lies,1st she said she was alone &amp;the hosp.now she's saying how weird it was for Keiffer's\n",
      "\n",
      "\n",
      "@MyBeautyisBrown LMFAO his big ass get on my nerves, you going to class tomorrow?\n",
      "\n",
      "\n",
      "Mohamed Morsi, Egypt's Muslim Brotherhood president, instructed the Supreme Council of the Armed Forces Thursday... http://t.co/NnBeUvSt\n",
      "\n",
      "\n",
      "C'mon Avila! You just got tagged out by a guy who looks like the kid Bill Murray was researching in The Royal Tenenbaums! #Tigers\n",
      "\n",
      "\n",
      "@thehuwdavies you think the Boro will beat Swansea? I'm not so sure, December/January is when we implode\n",
      "\n",
      "\n",
      "At the first Grammy Awards, held on 4 May 1959, Domenico Modugno beat out Frank Sinatra and Peggy Lee for the Record of the Year,with Volare\n",
      "\n",
      "\n",
      "@JennetteMcHevan I have studied all day but tomorrow I'm going out with friends! :D Omg Jennette did?!!!! I'm gonna look! &lt;3\n",
      "\n",
      "\n",
      "Good morning Thursday. \"Life is fragile. We're not guaranteed a tomorrow so give it everything you've got.\" - Tim Cook [Do it for Jobs!]\n",
      "\n",
      "\n",
      "#Twitition Mcfly come back to Argentina but this time we want to come to mar del plata!!! http://t.co/DlXY0LCg\n",
      "\n",
      "\n",
      "@Astrochologist anything. I wondered how the aspects btwn my sun/moon faired with my rising. I also have Venus in Sag...yea lol Thank u :)\n",
      "\n",
      "\n",
      "My teachers call themselves givng us candy....wasn't even the GOOD stuff. I might go to Walmart or CVS tomorrow/\n",
      "\n",
      "\n",
      "#Broncos Peyton Manning named AFC Offensive Player of the month. It's his 5th such honor, second to Tom Brady's 6, tied w/ TD.\n",
      "\n",
      "\n",
      "@TooZany is bringing out Kendrick Lamar the 6th of December!?! Get your tickets now!\n",
      "\n",
      "\n",
      "Andre's Wigan Warning - #COYS Official Site Wigan might currently occupy 15th place in the Premier League,... http://t.co/3mo7WIWd\n",
      "\n",
      "\n",
      "@juice005 strange enough, I'm going to see Noel Gallagher in concert tomorrow  night. #alldayb1tch\n",
      "\n",
      "\n",
      "How are they going to act in new york with the subways out? They better clutch it out like Eli Manning 4th quarter\n",
      "\n",
      "\n",
      "Homegrown talent missing on Signing Day: Throughout most of the day on Wednesday, the video scoreboard ... http://t.co/6dZ2hQkD #Raleigh\n",
      "\n",
      "\n",
      "taylor swift is coming with ed sheeran june 29th? most perf news i've heard all night.\n",
      "\n",
      "\n",
      "The great Noel Gallagher is about to hit the stage in St. Paul. Plenty of room here so we're 4th row center. Plenty of room. Pretty fired up\n",
      "\n",
      "\n",
      "@lala_cox There are going to be plenty of ups &amp; downs for Boro,Cardiff,Leicester etc until May.I hope we are still in with a shout for promo\n",
      "\n",
      "\n",
      "@joeeewilliams that sucks, amazon might have some left .. hate that i won't have it until 11am on Tuesday though\n",
      "\n",
      "\n",
      "Playing as the Browns HC K. Fri in #Madden13, XFacalac lost to the Ravens 21-28 on All-Madden #ConnectedCareers\n",
      "\n",
      "\n",
      "@rosanne_89 Nooooooooo rosanne! They've just restocked them and me going overseas Sunday means I can't afford them :'(\n",
      "\n",
      "\n",
      "The pain is far deeper than a Billy cundiff missed field goal. Gotta wake up and forget about it tomorrow. #Orioles #stayhungry\n",
      "\n",
      "\n",
      "@grandvincenzo on November 16 be ready to head to the movies. Breaking Dawn: Part 2. (;\n",
      "\n",
      "\n",
      "after seeing @Iam_FaithReid's tweet about watching The Vow, I think I may need to watch it.\n",
      "\n",
      "\n"
     ]
    }
   ],
   "source": [
    "start = 0\n",
    "end = 50\n",
    "for tweet in raw_tweets[start:end]:\n",
    "    print (tweet)\n",
    "    print ('\\n')"
   ]
  },
  {
   "cell_type": "markdown",
   "metadata": {},
   "source": [
    "***\n",
    "## <font color='red'>Pre-train the tweets</font>\n",
    "https://nlp.stanford.edu/IR-book/html/htmledition/determining-the-vocabulary-of-terms-1.html\n",
    "***"
   ]
  },
  {
   "cell_type": "code",
   "execution_count": 7,
   "metadata": {
    "collapsed": true
   },
   "outputs": [],
   "source": [
    "TT = TweetTokenizer()\n",
    "\n",
    "def emoticondictionary(filename):\n",
    "    \"\"\"\n",
    "    Reads the emoticon file and represents it as dictionary where the emoticon is the key, \n",
    "    and its indication as a value\n",
    "    \"\"\"\n",
    "    emo_scores = {'Positive': 'positive', 'Extremely-Positive': 'positive', \n",
    "                  'Negative': 'negative','Extremely-Negative': 'negative',\n",
    "                  'Neutral': 'neutral'}\n",
    "    emo_score_list = {}\n",
    "    fi = open(filename,\"r\")\n",
    "    l = fi.readline()\n",
    "    while l:\n",
    "        #replace the \"Non-break space\" with the ordinary space \" \"\n",
    "        l = l.replace(\"\\xa0\",\" \")\n",
    "        li = l.split(\" \")\n",
    "        l2 = li[:-1] #removes the polarity of the emoticon ('negative', 'positive')\n",
    "        l2.append(li[len(li) - 1].split(\"\\t\")[0]) #gets the last emoticon attached to the polarity by '\\t'\n",
    "        sentiment=li[len(li) - 1].split(\"\\t\")[1][:-1] #gets only the polarity, and removes '\\n'\n",
    "        score=emo_scores[sentiment]\n",
    "        l2.append(score)\n",
    "        for i in range(0,len(l2)-1):\n",
    "            emo_score_list[l2[i]]=l2[len(l2)-1]\n",
    "        l=fi.readline()\n",
    "    return emo_score_list\n",
    "\n",
    "emoticon_dict = emoticondictionary('./resources/emoticon.txt')\n",
    "\n",
    "\n",
    "# substititue emoticon with its associated sentiment\n",
    "def subsEmoticon(tweet,d):\n",
    "    l = TT.tokenize(tweet)\n",
    "    tweet = [d[i] if i in d.keys() else i for i in l]\n",
    "    return tweet\n",
    "\n",
    "raw_tweets = [subsEmoticon(tweet, emoticon_dict) for tweet in raw_tweets]\n",
    "# print(\":D X3 :|\")\n",
    "# subsEmoticon(\":D X3 :|\", dict)"
   ]
  },
  {
   "cell_type": "code",
   "execution_count": 8,
   "metadata": {
    "collapsed": false
   },
   "outputs": [
    {
     "name": "stdout",
     "output_type": "stream",
     "text": [
      "['Gas', 'by', 'my', 'house', 'hit', '$', '3.39', '!', '!', '!', \"I'm\", 'going', 'to', 'Chapel', 'Hill', 'on', 'Sat', '.', 'positive']\n",
      "\n",
      "\n",
      "['Iranian', 'general', 'says', \"Israel's\", 'Iron', 'Dome', \"can't\", 'deal', 'with', 'their', 'missiles', '(', 'keep', 'talking', 'like', 'that', 'and', 'we', 'may', 'end', 'up', 'finding', 'out', ')']\n",
      "\n",
      "\n",
      "['with', 'J', 'Davlar', '11th', '.', 'Main', 'rivals', 'are', 'team', 'Poland', '.', 'Hopefully', 'we', 'an', 'make', 'it', 'a', 'successful', 'end', 'to', 'a', 'tough', 'week', 'of', 'training', 'tomorrow', '.']\n",
      "\n",
      "\n",
      "['Talking', 'about', \"ACT's\", '&', '&', \"SAT's\", ',', 'deciding', 'where', 'I', 'want', 'to', 'go', 'to', 'college', ',', 'applying', 'to', 'colleges', 'and', 'everything', 'about', 'college', 'stresses', 'me', 'out', '.']\n",
      "\n",
      "\n",
      "['They', 'may', 'have', 'a', 'SuperBowl', 'in', 'Dallas', ',', 'but', 'Dallas', \"ain't\", 'winning', 'a', 'SuperBowl', '.', 'Not', 'with', 'that', 'quarterback', 'and', 'owner', '.', '@S4NYC', '@RasmussenPoll']\n",
      "\n",
      "\n",
      "['Im', 'bringing', 'the', 'monster', 'load', 'of', 'candy', 'tomorrow', ',', 'I', 'just', 'hope', 'it', \"doesn't\", 'get', 'all', 'squiched']\n",
      "\n",
      "\n",
      "['Apple', 'software', ',', 'retail', 'chiefs', 'out', 'in', 'overhaul', ':', 'SAN', 'FRANCISCO', 'Apple', 'Inc', 'CEO', 'Tim', 'Cook', 'on', 'Monday', 'replaced', 'the', 'heads', '...', 'http://t.co/X49ZEOsG']\n",
      "\n",
      "\n",
      "['@oluoch', '@victor_otti', '@kunjand', 'I', 'just', 'watched', 'it', '!', \"Sridevi's\", 'comeback', '...', 'U', 'remember', 'her', 'from', 'the', '90s', '?', '?', 'Sun', 'mornings', 'on', 'NTA', 'positive']\n",
      "\n",
      "\n",
      "['#Livewire', 'Nadal', 'confirmed', 'for', 'Mexican', 'Open', 'in', 'February', ':', 'Rafael', 'Nadal', 'is', 'set', 'to', 'play', 'at', 'the', 'Me', '...', 'http://t.co/zgUXpcnC', '#LiveWireAthletics']\n",
      "\n",
      "\n",
      "['@MsSheLahY', 'I', 'didnt', 'want', 'to', 'just', 'pop', 'up', '...', 'but', 'yep', 'we', 'have', 'chapel', 'hill', 'next', 'wednesday', 'you', 'should', 'come', '..', 'and', 'shes', 'great', 'ill', 'tell', 'her', 'you', 'asked']\n",
      "\n",
      "\n",
      "['@Alyoup005', '@addicted2haley', 'hmmmm', 'November', 'is', 'an', 'odd', 'release', 'date', 'if', 'true', 'but', 'if', 'it', 'becomes', 'big', 'enough', 'maybe', 'she', 'could', 'sing', 'it', 'at', 'Grammys']\n",
      "\n",
      "\n",
      "['#Iran', 'US', 'delisting', 'MKO', 'from', 'global', 'terrorists', 'list', 'in', 'line', 'with', 'Iran', 'campaign', ':', 'Tehran', ',', 'Oct', '30', ',', 'IRNA', '-', '-', 'Secretary', '...', 'http://t.co/9wWvxEbf']\n",
      "\n",
      "\n",
      "['Good', 'Morning', 'Becky', '!', 'Thursday', 'is', 'going', 'to', 'be', 'Fantastic', '!', '@SwedenG', '@DJ4JG', '@Grdina', '@Paverlayer', '@FSBull', '@RevkahJC', '@DicksTrash', '@borderfox116']\n",
      "\n",
      "\n",
      "['Expect', 'light-moderate', 'rains', 'over', 'E', '.', 'Visayas', ';', 'Cebu', ',', 'Bohol', ',', 'Samar', '&', 'Leyte', 'have', '30-70', '%', 'chance', 'of', 'rains', 'tonight', '!', 'Expect', 'fair', 'weather', 'tomorrow', '!', 'positive']\n",
      "\n",
      "\n",
      "['One', 'ticket', 'left', 'for', 'the', '@49ers', 'game', 'tomorrow', '!', \"Don't\", 'miss', 'the', 'rematch', 'of', 'the', 'NFC', 'Championship', 'game', 'against', 'the', 'NY', 'Giants', '!', 'Hit', 'me', 'up', '!']\n",
      "\n",
      "\n",
      "['AFC', 'away', 'fans', 'on', 'Saturday', '.', 'All', 'this', 'stuff', 'about', 'the', \"'\", 'she', 'said', 'no', \"'\", 'chant', '.', \"It's\", 'bollocks', '.', 'When', 'he', 'has', 'the', 'ball', ',', 'just', 'turn', 'your', 'back', 'on', 'him', '.']\n",
      "\n",
      "\n",
      "['Why', 'is', 'it', 'so', 'hard', 'to', 'find', 'the', '@TVGuideMagazine', 'these', 'days', '?', 'Went', 'to', '3', 'stores', 'for', 'the', 'Castle', 'cover', 'issue', '.', 'NONE', '.', 'Will', 'search', 'again', 'tomorrow', '...']\n",
      "\n",
      "\n",
      "['Game', '1', 'of', 'the', 'NLCS', 'and', 'a', 'rematch', 'of', 'the', 'NFC', 'Championship', 'game', 'tomorrow', '.', \"SF's\", 'gonna', 'be', 'cuuuuhraaaaaaaazeeeee']\n",
      "\n",
      "\n",
      "['@TrevorJavier', 'the', 'heat', 'game', 'may', 'cost', 'alot', 'more', '...', 'and', 'plus', 'I', 'would', 'rather', 'see', 'Austin', 'Rivers', 'play']\n",
      "\n",
      "\n",
      "['Never', 'start', 'working', 'on', 'your', 'dreams', 'and', 'goals', 'tomorrow', '...', 'tomorrow', 'never', 'comes', '...', 'if', 'it', 'means', 'anything', 'to', 'U', ',', 'ACT', 'NOW', '!', '#getafterit']\n",
      "\n",
      "\n",
      "['@TheFFAddict', 'I', 'had', 'Vick', 'and', 'Flacco', ',', 'needed', 'an', 'upgrade', '.', 'Vick', 'may', 'get', 'benched', ',', 'Jennings', 'a', 'back', 'up', 'again', 'soon', '.', 'I', 'thought', 'it', 'was', 'a', 'win', 'for', 'me', '.']\n",
      "\n",
      "\n",
      "['Looks', 'like', 'Andy', 'the', 'Android', 'may', 'have', 'had', 'a', 'little', 'too', 'much', 'fun', 'yesterday', '.', 'http://t.co/7ZDEfzEC']\n",
      "\n",
      "\n",
      "['@APGPhoto', 'oooh', 'nice', '..', 'Tis', 'tempting', 'to', 'go', 'up', 'the', 'lakes', 'with', 'my', 'Nikon', '...', 'Hmmmm', 'I', 'may', 'do', 'that', '..']\n",
      "\n",
      "\n",
      "['BLACK', 'FRIDAY', 'Huge', 'Saving', 'Aerial', 'View', 'of', 'a', 'City', ',', 'Paris', 'Las', 'Vegas', ',', 'the', 'Las', 'Vegas', 'Strip', ',', 'Las', 'Vegas', ',', '...', 'http://t.co/DCTgeSED']\n",
      "\n",
      "\n",
      "['@MelmurMel', '@PBandJenelley_1', '@vl_delp_ham_', 'Jenelle', 'lies', ',', '1st', 'she', 'said', 'she', 'was', 'alone', '&', 'the', 'hosp.now', \"she's\", 'saying', 'how', 'weird', 'it', 'was', 'for', \"Keiffer's\"]\n",
      "\n",
      "\n",
      "['@MyBeautyisBrown', 'LMFAO', 'his', 'big', 'ass', 'get', 'on', 'my', 'nerves', ',', 'you', 'going', 'to', 'class', 'tomorrow', '?']\n",
      "\n",
      "\n",
      "['Mohamed', 'Morsi', ',', \"Egypt's\", 'Muslim', 'Brotherhood', 'president', ',', 'instructed', 'the', 'Supreme', 'Council', 'of', 'the', 'Armed', 'Forces', 'Thursday', '...', 'http://t.co/NnBeUvSt']\n",
      "\n",
      "\n",
      "[\"C'mon\", 'Avila', '!', 'You', 'just', 'got', 'tagged', 'out', 'by', 'a', 'guy', 'who', 'looks', 'like', 'the', 'kid', 'Bill', 'Murray', 'was', 'researching', 'in', 'The', 'Royal', 'Tenenbaums', '!', '#Tigers']\n",
      "\n",
      "\n",
      "['@thehuwdavies', 'you', 'think', 'the', 'Boro', 'will', 'beat', 'Swansea', '?', \"I'm\", 'not', 'so', 'sure', ',', 'December', '/', 'January', 'is', 'when', 'we', 'implode']\n",
      "\n",
      "\n",
      "['At', 'the', 'first', 'Grammy', 'Awards', ',', 'held', 'on', '4', 'May', '1959', ',', 'Domenico', 'Modugno', 'beat', 'out', 'Frank', 'Sinatra', 'and', 'Peggy', 'Lee', 'for', 'the', 'Record', 'of', 'the', 'Year', ',', 'with', 'Volare']\n",
      "\n",
      "\n",
      "['@JennetteMcHevan', 'I', 'have', 'studied', 'all', 'day', 'but', 'tomorrow', \"I'm\", 'going', 'out', 'with', 'friends', '!', 'positive', 'Omg', 'Jennette', 'did', '?', '!', '!', '!', \"I'm\", 'gonna', 'look', '!', 'positive']\n",
      "\n",
      "\n",
      "['Good', 'morning', 'Thursday', '.', '\"', 'Life', 'is', 'fragile', '.', \"We're\", 'not', 'guaranteed', 'a', 'tomorrow', 'so', 'give', 'it', 'everything', \"you've\", 'got', '.', '\"', '-', 'Tim', 'Cook', '[', 'Do', 'it', 'for', 'Jobs', '!', ']']\n",
      "\n",
      "\n",
      "['#Twitition', 'Mcfly', 'come', 'back', 'to', 'Argentina', 'but', 'this', 'time', 'we', 'want', 'to', 'come', 'to', 'mar', 'del', 'plata', '!', '!', '!', 'http://t.co/DlXY0LCg']\n",
      "\n",
      "\n",
      "['@Astrochologist', 'anything', '.', 'I', 'wondered', 'how', 'the', 'aspects', 'btwn', 'my', 'sun', '/', 'moon', 'faired', 'with', 'my', 'rising', '.', 'I', 'also', 'have', 'Venus', 'in', 'Sag', '...', 'yea', 'lol', 'Thank', 'u', 'positive']\n",
      "\n",
      "\n",
      "['My', 'teachers', 'call', 'themselves', 'givng', 'us', 'candy', '...', \"wasn't\", 'even', 'the', 'GOOD', 'stuff', '.', 'I', 'might', 'go', 'to', 'Walmart', 'or', 'CVS', 'tomorrow', '/']\n",
      "\n",
      "\n",
      "['#Broncos', 'Peyton', 'Manning', 'named', 'AFC', 'Offensive', 'Player', 'of', 'the', 'month', '.', \"It's\", 'his', '5th', 'such', 'honor', ',', 'second', 'to', 'Tom', \"Brady's\", '6', ',', 'tied', 'w', '/', 'TD', '.']\n",
      "\n",
      "\n",
      "['@TooZany', 'is', 'bringing', 'out', 'Kendrick', 'Lamar', 'the', '6th', 'of', 'December', '!', '?', '!', 'Get', 'your', 'tickets', 'now', '!']\n",
      "\n",
      "\n",
      "[\"Andre's\", 'Wigan', 'Warning', '-', '#COYS', 'Official', 'Site', 'Wigan', 'might', 'currently', 'occupy', '15th', 'place', 'in', 'the', 'Premier', 'League', ',', '...', 'http://t.co/3mo7WIWd']\n",
      "\n",
      "\n",
      "['@juice005', 'strange', 'enough', ',', \"I'm\", 'going', 'to', 'see', 'Noel', 'Gallagher', 'in', 'concert', 'tomorrow', 'night', '.', '#alldayb1tch']\n",
      "\n",
      "\n",
      "['How', 'are', 'they', 'going', 'to', 'act', 'in', 'new', 'york', 'with', 'the', 'subways', 'out', '?', 'They', 'better', 'clutch', 'it', 'out', 'like', 'Eli', 'Manning', '4th', 'quarter']\n",
      "\n",
      "\n",
      "['Homegrown', 'talent', 'missing', 'on', 'Signing', 'Day', ':', 'Throughout', 'most', 'of', 'the', 'day', 'on', 'Wednesday', ',', 'the', 'video', 'scoreboard', '...', 'http://t.co/6dZ2hQkD', '#Raleigh']\n",
      "\n",
      "\n",
      "['taylor', 'swift', 'is', 'coming', 'with', 'ed', 'sheeran', 'june', '29th', '?', 'most', 'perf', 'news', \"i've\", 'heard', 'all', 'night', '.']\n",
      "\n",
      "\n",
      "['The', 'great', 'Noel', 'Gallagher', 'is', 'about', 'to', 'hit', 'the', 'stage', 'in', 'St', '.', 'Paul', '.', 'Plenty', 'of', 'room', 'here', 'so', \"we're\", '4th', 'row', 'center', '.', 'Plenty', 'of', 'room', '.', 'Pretty', 'fired', 'up']\n",
      "\n",
      "\n",
      "['@lala_cox', 'There', 'are', 'going', 'to', 'be', 'plenty', 'of', 'ups', '&', 'downs', 'for', 'Boro', ',', 'Cardiff', ',', 'Leicester', 'etc', 'until', 'May', '.', 'I', 'hope', 'we', 'are', 'still', 'in', 'with', 'a', 'shout', 'for', 'promo']\n",
      "\n",
      "\n",
      "['@joeeewilliams', 'that', 'sucks', ',', 'amazon', 'might', 'have', 'some', 'left', '..', 'hate', 'that', 'i', \"won't\", 'have', 'it', 'until', '11am', 'on', 'Tuesday', 'though']\n",
      "\n",
      "\n",
      "['Playing', 'as', 'the', 'Browns', 'HC', 'K', '.', 'Fri', 'in', '#Madden13', ',', 'XFacalac', 'lost', 'to', 'the', 'Ravens', '21-28', 'on', 'All-Madden', '#ConnectedCareers']\n",
      "\n",
      "\n",
      "['@rosanne_89', 'Nooooooooo', 'rosanne', '!', \"They've\", 'just', 'restocked', 'them', 'and', 'me', 'going', 'overseas', 'Sunday', 'means', 'I', \"can't\", 'afford', 'them', \":'(\"]\n",
      "\n",
      "\n",
      "['The', 'pain', 'is', 'far', 'deeper', 'than', 'a', 'Billy', 'cundiff', 'missed', 'field', 'goal', '.', 'Gotta', 'wake', 'up', 'and', 'forget', 'about', 'it', 'tomorrow', '.', '#Orioles', '#stayhungry']\n",
      "\n",
      "\n",
      "['@grandvincenzo', 'on', 'November', '16', 'be', 'ready', 'to', 'head', 'to', 'the', 'movies', '.', 'Breaking', 'Dawn', ':', 'Part', '2', '.', '(;']\n",
      "\n",
      "\n",
      "['after', 'seeing', '@Iam_FaithReid', \"'\", 's', 'tweet', 'about', 'watching', 'The', 'Vow', ',', 'I', 'think', 'I', 'may', 'need', 'to', 'watch', 'it', '.']\n",
      "\n",
      "\n"
     ]
    }
   ],
   "source": [
    "start = 0\n",
    "end = 50\n",
    "for tweet in raw_tweets[start:end]:\n",
    "    print (tweet)\n",
    "    print ('\\n')"
   ]
  },
  {
   "cell_type": "code",
   "execution_count": 9,
   "metadata": {
    "collapsed": true
   },
   "outputs": [],
   "source": [
    "def correct_case(prev_word, words):\n",
    "    \"\"\"\n",
    "    Gets the proper 'prev_word' case and preserves it with the 'word'.\n",
    "    \"\"\"\n",
    "    def case_of(text):\n",
    "        \"\"\"\n",
    "        Return the case-function appropriate for the given word. \n",
    "        The returned cast is [upper, lower, title, or just str].\n",
    "        \"\"\"\n",
    "        if len(text) == 1:\n",
    "            return str.title if text.isupper() else str.lower\n",
    "        return (str.upper if text.isupper() else\n",
    "                str.lower if text.islower() else\n",
    "                str.title if text.istitle() else\n",
    "                str)\n",
    "    assert type(words) == list\n",
    "    words[0] = case_of(prev_word)(words[0])\n",
    "    return words"
   ]
  },
  {
   "cell_type": "code",
   "execution_count": 10,
   "metadata": {
    "collapsed": false
   },
   "outputs": [
    {
     "name": "stdout",
     "output_type": "stream",
     "text": [
      "3488 words were replaced\n"
     ]
    }
   ],
   "source": [
    "def loadSlangs(filename):\n",
    "    \"\"\"\n",
    "    This function reads the file that contains the slangs, and put them in a dictionary such that\n",
    "    the key is the \"slang\" and the value is the acronym.\n",
    "    slangs[\"i've\"] = ['i',  'have']\n",
    "    slang['12be'] = ['want', 'to', 'be']\n",
    "    ...\n",
    "    CAUTION: the keys and values are in lower-case\n",
    "    \"\"\"\n",
    "    slangs={}\n",
    "    fi=open(filename,'r')\n",
    "    line=fi.readline()\n",
    "    while line:\n",
    "        l=line.split(r',%,')\n",
    "        if len(l) == 2:\n",
    "            slangs[l[0].lower()]=l[1][:-1].lower().split()\n",
    "        line=fi.readline()\n",
    "    fi.close()\n",
    "    return slangs\n",
    "\n",
    "\n",
    "replaced = 0\n",
    "def replaceSlangs(tweet, slangs):\n",
    "    \"\"\"\n",
    "    This function is used to replace the slang in the original tweets and replace them with the acronym.\n",
    "    And it's also returns the the tweet in lower-case letters\n",
    "    \"\"\"\n",
    "    global replaced\n",
    "    result = []\n",
    "    for w in tweet:\n",
    "        if w.lower() in slangs.keys():\n",
    "            replaced += 1\n",
    "            result.extend(correct_case(w, slangs[w.lower()]))\n",
    "        else:\n",
    "            result.append(w)\n",
    "    return result\n",
    "\n",
    "\n",
    "slangs = loadSlangs('./resources/internetSlangs.txt')\n",
    "raw_tweets = [replaceSlangs(tweet, slangs) for tweet in raw_tweets]\n",
    "print (str(replaced)+\" words were replaced\")"
   ]
  },
  {
   "cell_type": "code",
   "execution_count": 11,
   "metadata": {
    "collapsed": false
   },
   "outputs": [
    {
     "name": "stdout",
     "output_type": "stream",
     "text": [
      "['Gas', 'by', 'my', 'house', 'hit', '$', '3.39', '!', '!', '!', \"I'm\", 'going', 'to', 'Chapel', 'Hill', 'on', 'Sat', '.', 'positive']\n",
      "\n",
      "\n",
      "['Iranian', 'general', 'says', \"Israel's\", 'Iron', 'Dome', \"can't\", 'deal', 'with', 'their', 'missiles', '(', 'keep', 'talking', 'like', 'that', 'and', 'we', 'may', 'end', 'up', 'finding', 'out', ')']\n",
      "\n",
      "\n",
      "['with', 'J', 'Davlar', '11th', '.', 'Main', 'rivals', 'are', 'team', 'Poland', '.', 'Hopefully', 'we', 'an', 'make', 'it', 'a', 'successful', 'end', 'to', 'a', 'tough', 'week', 'of', 'training', 'tomorrow', '.']\n",
      "\n",
      "\n",
      "['Talking', 'about', \"ACT's\", '&', '&', \"SAT's\", ',', 'deciding', 'where', 'I', 'want', 'to', 'go', 'to', 'college', ',', 'applying', 'to', 'colleges', 'and', 'everything', 'about', 'college', 'stresses', 'me', 'out', '.']\n",
      "\n",
      "\n",
      "['They', 'may', 'have', 'a', 'SuperBowl', 'in', 'Dallas', ',', 'but', 'Dallas', 'am', 'not', 'winning', 'a', 'SuperBowl', '.', 'Not', 'with', 'that', 'quarterback', 'and', 'owner', '.', '@S4NYC', '@RasmussenPoll']\n",
      "\n",
      "\n",
      "['Instant', 'message', 'bringing', 'the', 'monster', 'load', 'of', 'candy', 'tomorrow', ',', 'I', 'just', 'hope', 'it', \"doesn't\", 'get', 'all', 'squiched']\n",
      "\n",
      "\n",
      "['Apple', 'software', ',', 'retail', 'chiefs', 'out', 'in', 'overhaul', ':', 'SAN', 'FRANCISCO', 'Apple', 'Inc', 'CEO', 'Tim', 'Cook', 'on', 'Monday', 'replaced', 'the', 'heads', '...', 'http://t.co/X49ZEOsG']\n",
      "\n",
      "\n",
      "['@oluoch', '@victor_otti', '@kunjand', 'I', 'just', 'watched', 'it', '!', \"Sridevi's\", 'comeback', '...', 'You', 'remember', 'her', 'from', 'the', '90s', '?', '?', 'Sun', 'mornings', 'on', 'NTA', 'positive']\n",
      "\n",
      "\n",
      "['#Livewire', 'Nadal', 'confirmed', 'for', 'Mexican', 'Open', 'in', 'February', ':', 'Rafael', 'Nadal', 'is', 'set', 'to', 'play', 'at', 'the', 'Me', '...', 'http://t.co/zgUXpcnC', '#LiveWireAthletics']\n",
      "\n",
      "\n",
      "['@MsSheLahY', 'I', 'didnt', 'want', 'to', 'just', 'pop', 'up', '...', 'but', 'yep', 'we', 'have', 'chapel', 'hill', 'next', 'wednesday', 'you', 'should', 'come', '..', 'and', 'shes', 'great', 'ill', 'tell', 'her', 'you', 'asked']\n",
      "\n",
      "\n",
      "['@Alyoup005', '@addicted2haley', 'hmmmm', 'November', 'is', 'an', 'odd', 'release', 'date', 'if', 'true', 'but', 'if', 'it', 'becomes', 'big', 'enough', 'maybe', 'she', 'could', 'sing', 'it', 'at', 'Grammys']\n",
      "\n",
      "\n",
      "['#Iran', 'US', 'delisting', 'MKO', 'from', 'global', 'terrorists', 'list', 'in', 'line', 'with', 'Iran', 'campaign', ':', 'Tehran', ',', 'Oct', '30', ',', 'IRNA', '-', '-', 'Secretary', '...', 'http://t.co/9wWvxEbf']\n",
      "\n",
      "\n",
      "['Good', 'Morning', 'Becky', '!', 'Thursday', 'is', 'going', 'to', 'be', 'Fantastic', '!', '@SwedenG', '@DJ4JG', '@Grdina', '@Paverlayer', '@FSBull', '@RevkahJC', '@DicksTrash', '@borderfox116']\n",
      "\n",
      "\n",
      "['Expect', 'light-moderate', 'rains', 'over', 'E', '.', 'Visayas', ';', 'Cebu', ',', 'Bohol', ',', 'Samar', '&', 'Leyte', 'have', '30-70', '%', 'chance', 'of', 'rains', 'tonight', '!', 'Expect', 'fair', 'weather', 'tomorrow', '!', 'positive']\n",
      "\n",
      "\n",
      "['One', 'ticket', 'left', 'for', 'the', '@49ers', 'game', 'tomorrow', '!', \"Don't\", 'miss', 'the', 'rematch', 'of', 'the', 'NO', 'fucking', 'clue', 'Championship', 'game', 'against', 'the', 'NY', 'Giants', '!', 'Hit', 'me', 'up', '!']\n",
      "\n",
      "\n",
      "['AWAY', 'from', 'computer', 'away', 'fans', 'on', 'Saturday', '.', 'All', 'this', 'stuff', 'about', 'the', \"'\", 'she', 'said', 'no', \"'\", 'chant', '.', \"It's\", 'bollocks', '.', 'When', 'he', 'has', 'the', 'ball', ',', 'just', 'turn', 'your', 'back', 'on', 'him', '.']\n",
      "\n",
      "\n",
      "['Why', 'is', 'it', 'so', 'hard', 'to', 'find', 'the', '@TVGuideMagazine', 'these', 'days', '?', 'Went', 'to', '3', 'stores', 'for', 'the', 'Castle', 'cover', 'issue', '.', 'NONE', '.', 'Will', 'search', 'again', 'tomorrow', '...']\n",
      "\n",
      "\n",
      "['Game', '1', 'of', 'the', 'NLCS', 'and', 'a', 'rematch', 'of', 'the', 'NO', 'fucking', 'clue', 'Championship', 'game', 'tomorrow', '.', \"SF's\", 'going', 'to', 'be', 'cuuuuhraaaaaaaazeeeee']\n",
      "\n",
      "\n",
      "['@TrevorJavier', 'the', 'heat', 'game', 'may', 'cost', 'a', 'lot', 'more', '...', 'and', 'plus', 'I', 'would', 'rather', 'see', 'Austin', 'Rivers', 'play']\n",
      "\n",
      "\n",
      "['Never', 'start', 'working', 'on', 'your', 'dreams', 'and', 'goals', 'tomorrow', '...', 'tomorrow', 'never', 'comes', '...', 'if', 'it', 'means', 'anything', 'to', 'You', ',', 'ACT', 'NOW', '!', '#getafterit']\n",
      "\n",
      "\n",
      "['@TheFFAddict', 'I', 'had', 'Vick', 'and', 'Flacco', ',', 'needed', 'an', 'upgrade', '.', 'Vick', 'may', 'get', 'benched', ',', 'Jennings', 'a', 'back', 'up', 'again', 'soon', '.', 'I', 'thought', 'it', 'was', 'a', 'win', 'for', 'me', '.']\n",
      "\n",
      "\n",
      "['Looks', 'like', 'Andy', 'the', 'Android', 'may', 'have', 'had', 'a', 'little', 'too', 'much', 'fun', 'yesterday', '.', 'http://t.co/7ZDEfzEC']\n",
      "\n",
      "\n",
      "['@APGPhoto', 'oooh', 'nice', '..', 'Is', 'tempting', 'to', 'go', 'up', 'the', 'lakes', 'with', 'my', 'Nikon', '...', 'Hmmmm', 'I', 'may', 'do', 'that', '..']\n",
      "\n",
      "\n",
      "['BLACK', 'FRIDAY', 'Huge', 'Saving', 'Aerial', 'View', 'of', 'a', 'City', ',', 'Paris', 'Las', 'Vegas', ',', 'the', 'Las', 'Vegas', 'Strip', ',', 'Las', 'Vegas', ',', '...', 'http://t.co/DCTgeSED']\n",
      "\n",
      "\n",
      "['@MelmurMel', '@PBandJenelley_1', '@vl_delp_ham_', 'Jenelle', 'lies', ',', '1st', 'she', 'said', 'she', 'was', 'alone', '&', 'the', 'hosp.now', \"she's\", 'saying', 'how', 'weird', 'it', 'was', 'for', \"Keiffer's\"]\n",
      "\n",
      "\n",
      "['@MyBeautyisBrown', 'LAUGHING', 'my', 'fucking', 'ass', 'off', 'his', 'big', 'ass', 'get', 'on', 'my', 'nerves', ',', 'you', 'going', 'to', 'class', 'tomorrow', '?']\n",
      "\n",
      "\n",
      "['Mohamed', 'Morsi', ',', \"Egypt's\", 'Muslim', 'Brotherhood', 'president', ',', 'instructed', 'the', 'Supreme', 'Council', 'of', 'the', 'Armed', 'Forces', 'Thursday', '...', 'http://t.co/NnBeUvSt']\n",
      "\n",
      "\n",
      "[\"C'mon\", 'Avila', '!', 'You', 'just', 'got', 'tagged', 'out', 'by', 'a', 'guy', 'who', 'looks', 'like', 'the', 'kid', 'Bill', 'Murray', 'was', 'researching', 'in', 'The', 'Royal', 'Tenenbaums', '!', '#Tigers']\n",
      "\n",
      "\n",
      "['@thehuwdavies', 'you', 'think', 'the', 'Boro', 'will', 'beat', 'Swansea', '?', \"I'm\", 'not', 'so', 'sure', ',', 'December', '/', 'January', 'is', 'when', 'we', 'implode']\n",
      "\n",
      "\n",
      "['At', 'the', 'first', 'Grammy', 'Awards', ',', 'held', 'on', 'for', 'May', '1959', ',', 'Domenico', 'Modugno', 'beat', 'out', 'Frank', 'Sinatra', 'and', 'Peggy', 'Lee', 'for', 'the', 'Record', 'of', 'the', 'Year', ',', 'with', 'Volare']\n",
      "\n",
      "\n",
      "['@JennetteMcHevan', 'I', 'have', 'studied', 'all', 'day', 'but', 'tomorrow', \"I'm\", 'going', 'out', 'with', 'friends', '!', 'positive', 'Oh', 'my', 'god', 'Jennette', 'did', '?', '!', '!', '!', \"I'm\", 'going', 'to', 'look', '!', 'positive']\n",
      "\n",
      "\n",
      "['Good', 'morning', 'Thursday', '.', '\"', 'Life', 'is', 'fragile', '.', \"We're\", 'not', 'guaranteed', 'a', 'tomorrow', 'so', 'give', 'it', 'everything', \"you've\", 'got', '.', '\"', '-', 'Tim', 'Cook', '[', 'Do', 'it', 'for', 'Jobs', '!', ']']\n",
      "\n",
      "\n",
      "['#Twitition', 'Mcfly', 'come', 'back', 'to', 'Argentina', 'but', 'this', 'time', 'we', 'want', 'to', 'come', 'to', 'mar', 'del', 'plata', '!', '!', '!', 'http://t.co/DlXY0LCg']\n",
      "\n",
      "\n",
      "['@Astrochologist', 'anything', '.', 'I', 'wondered', 'how', 'the', 'aspects', 'between', 'my', 'sun', '/', 'moon', 'faired', 'with', 'my', 'rising', '.', 'I', 'also', 'have', 'Venus', 'in', 'Sag', '...', 'yeah', 'laughing', 'out', 'loud', 'Thank', 'you', 'positive']\n",
      "\n",
      "\n",
      "['My', 'teachers', 'call', 'themselves', 'givng', 'us', 'candy', '...', \"wasn't\", 'even', 'the', 'GOOD', 'stuff', '.', 'I', 'might', 'go', 'to', 'Walmart', 'or', 'CVS', 'tomorrow', '/']\n",
      "\n",
      "\n",
      "['#Broncos', 'Peyton', 'Manning', 'named', 'AWAY', 'from', 'computer', 'Offensive', 'Player', 'of', 'the', 'month', '.', \"It's\", 'his', '5th', 'such', 'honor', ',', 'second', 'to', 'Tom', \"Brady's\", '6', ',', 'tied', 'w', '/', 'TD', '.']\n",
      "\n",
      "\n",
      "['@TooZany', 'is', 'bringing', 'out', 'Kendrick', 'Lamar', 'the', '6th', 'of', 'December', '!', '?', '!', 'Get', 'your', 'tickets', 'now', '!']\n",
      "\n",
      "\n",
      "[\"Andre's\", 'Wigan', 'Warning', '-', '#COYS', 'Official', 'Site', 'Wigan', 'might', 'currently', 'occupy', '15th', 'place', 'in', 'the', 'Premier', 'League', ',', '...', 'http://t.co/3mo7WIWd']\n",
      "\n",
      "\n",
      "['@juice005', 'strange', 'enough', ',', \"I'm\", 'going', 'to', 'see', 'Noel', 'Gallagher', 'in', 'concert', 'tomorrow', 'night', '.', '#alldayb1tch']\n",
      "\n",
      "\n",
      "['How', 'are', 'they', 'going', 'to', 'act', 'in', 'new', 'york', 'with', 'the', 'subways', 'out', '?', 'They', 'better', 'clutch', 'it', 'out', 'like', 'Eli', 'Manning', '4th', 'quarter']\n",
      "\n",
      "\n",
      "['Homegrown', 'talent', 'missing', 'on', 'Signing', 'Day', ':', 'Throughout', 'most', 'of', 'the', 'day', 'on', 'Wednesday', ',', 'the', 'video', 'scoreboard', '...', 'http://t.co/6dZ2hQkD', '#Raleigh']\n",
      "\n",
      "\n",
      "['taylor', 'swift', 'is', 'coming', 'with', 'ed', 'sheeran', 'june', '29th', '?', 'most', 'perf', 'news', \"i've\", 'heard', 'all', 'night', '.']\n",
      "\n",
      "\n",
      "['The', 'great', 'Noel', 'Gallagher', 'is', 'about', 'to', 'hit', 'the', 'stage', 'in', 'Stop', 'that', '.', 'Paul', '.', 'Plenty', 'of', 'room', 'here', 'so', \"we're\", '4th', 'row', 'center', '.', 'Plenty', 'of', 'room', '.', 'Pretty', 'fired', 'up']\n",
      "\n",
      "\n",
      "['@lala_cox', 'There', 'are', 'going', 'to', 'be', 'plenty', 'of', 'ups', '&', 'downs', 'for', 'Boro', ',', 'Cardiff', ',', 'Leicester', 'etc', 'until', 'May', '.', 'I', 'hope', 'we', 'are', 'still', 'in', 'with', 'a', 'shout', 'for', 'promo']\n",
      "\n",
      "\n",
      "['@joeeewilliams', 'that', 'sucks', ',', 'amazon', 'might', 'have', 'some', 'left', '..', 'hate', 'that', 'i', \"won't\", 'have', 'it', 'until', '11am', 'on', 'Tuesday', 'though']\n",
      "\n",
      "\n",
      "['Playing', 'as', 'the', 'Browns', 'HOW', 'come', 'Ok', '.', 'Fri', 'in', '#Madden13', ',', 'XFacalac', 'lost', 'to', 'the', 'Ravens', '21-28', 'on', 'All-Madden', '#ConnectedCareers']\n",
      "\n",
      "\n",
      "['@rosanne_89', 'Nooooooooo', 'rosanne', '!', \"They've\", 'just', 'restocked', 'them', 'and', 'me', 'going', 'overseas', 'Sunday', 'means', 'I', \"can't\", 'afford', 'them', \":'(\"]\n",
      "\n",
      "\n",
      "['The', 'pain', 'is', 'far', 'deeper', 'than', 'a', 'Billy', 'cundiff', 'missed', 'field', 'goal', '.', 'Got', 'to', 'wake', 'up', 'and', 'forget', 'about', 'it', 'tomorrow', '.', '#Orioles', '#stayhungry']\n",
      "\n",
      "\n",
      "['@grandvincenzo', 'on', 'November', '16', 'be', 'ready', 'to', 'head', 'to', 'the', 'movies', '.', 'Breaking', 'Dawn', ':', 'Part', 'too', '.', '(;']\n",
      "\n",
      "\n",
      "['after', 'seeing', '@Iam_FaithReid', \"'\", 's', 'tweet', 'about', 'watching', 'The', 'Vow', ',', 'I', 'think', 'I', 'may', 'need', 'to', 'watch', 'it', '.']\n",
      "\n",
      "\n"
     ]
    }
   ],
   "source": [
    "start = 0\n",
    "end = 50\n",
    "for tweet in raw_tweets[start:end]:\n",
    "    print (tweet)\n",
    "    print ('\\n')"
   ]
  },
  {
   "cell_type": "code",
   "execution_count": 12,
   "metadata": {
    "collapsed": false
   },
   "outputs": [
    {
     "name": "stdout",
     "output_type": "stream",
     "text": [
      "1682 words were replaced\n"
     ]
    }
   ],
   "source": [
    "def load_apostrophe_words(filename):\n",
    "    \"\"\"\n",
    "    This function reads the file that contains all words that have apostrophe, and put them in a dictionary \n",
    "    such that the key is the \"word containing apostrophe\" and the value is the \"the word without apostrophe\".\n",
    "    slangs['i've'] = 'i have'\n",
    "    slang['I'm] = 'I am'\n",
    "    ...\n",
    "    CAUTION: the keys and values are lower-case letters\n",
    "    \"\"\"\n",
    "    apo={}\n",
    "    fi=open(filename,'r')\n",
    "    line=fi.readline()\n",
    "    while line:\n",
    "        l=line.split(r',%,')\n",
    "        if len(l) == 2:\n",
    "            apo[l[0].lower()] = l[1][:-1].lower().split()\n",
    "        line=fi.readline()\n",
    "    fi.close()\n",
    "    return apo\n",
    "\n",
    "replaced = 0\n",
    "def replace_apostrophe(tweet,apos):\n",
    "    global replaced\n",
    "    result = []\n",
    "    for w in tweet:\n",
    "        if w.lower() in apos.keys():\n",
    "            result.extend(correct_case(w, apos[w.lower()]))\n",
    "            replaced += 1\n",
    "        else:\n",
    "            result.append(w)\n",
    "    return result\n",
    "\n",
    "apos = load_apostrophe_words('./resources/apostrophe_words.txt')\n",
    "raw_tweets = [replace_apostrophe(tweet, apos) for tweet in raw_tweets]\n",
    "print (str(replaced)+\" words were replaced\")"
   ]
  },
  {
   "cell_type": "code",
   "execution_count": 13,
   "metadata": {
    "collapsed": false
   },
   "outputs": [
    {
     "name": "stdout",
     "output_type": "stream",
     "text": [
      "['Gas', 'by', 'my', 'house', 'hit', '$', '3.39', '!', '!', '!', 'i', 'am', 'going', 'to', 'Chapel', 'Hill', 'on', 'Sat', '.', 'positive']\n",
      "\n",
      "\n",
      "['Iranian', 'general', 'says', \"Israel's\", 'Iron', 'Dome', 'can', 'not', 'deal', 'with', 'their', 'missiles', '(', 'keep', 'talking', 'like', 'that', 'and', 'we', 'may', 'end', 'up', 'finding', 'out', ')']\n",
      "\n",
      "\n",
      "['with', 'J', 'Davlar', '11th', '.', 'Main', 'rivals', 'are', 'team', 'Poland', '.', 'Hopefully', 'we', 'an', 'make', 'it', 'a', 'successful', 'end', 'to', 'a', 'tough', 'week', 'of', 'training', 'tomorrow', '.']\n",
      "\n",
      "\n",
      "['Talking', 'about', \"ACT's\", '&', '&', \"SAT's\", ',', 'deciding', 'where', 'I', 'want', 'to', 'go', 'to', 'college', ',', 'applying', 'to', 'colleges', 'and', 'everything', 'about', 'college', 'stresses', 'me', 'out', '.']\n",
      "\n",
      "\n",
      "['They', 'may', 'have', 'a', 'SuperBowl', 'in', 'Dallas', ',', 'but', 'Dallas', 'am', 'not', 'winning', 'a', 'SuperBowl', '.', 'Not', 'with', 'that', 'quarterback', 'and', 'owner', '.', '@S4NYC', '@RasmussenPoll']\n",
      "\n",
      "\n",
      "['Instant', 'message', 'bringing', 'the', 'monster', 'load', 'of', 'candy', 'tomorrow', ',', 'I', 'just', 'hope', 'it', 'does', 'not', 'get', 'all', 'squiched']\n",
      "\n",
      "\n",
      "['Apple', 'software', ',', 'retail', 'chiefs', 'out', 'in', 'overhaul', ':', 'SAN', 'FRANCISCO', 'Apple', 'Inc', 'CEO', 'Tim', 'Cook', 'on', 'Monday', 'replaced', 'the', 'heads', '...', 'http://t.co/X49ZEOsG']\n",
      "\n",
      "\n",
      "['@oluoch', '@victor_otti', '@kunjand', 'I', 'just', 'watched', 'it', '!', \"Sridevi's\", 'comeback', '...', 'You', 'remember', 'her', 'from', 'the', '90s', '?', '?', 'Sun', 'mornings', 'on', 'NTA', 'positive']\n",
      "\n",
      "\n",
      "['#Livewire', 'Nadal', 'confirmed', 'for', 'Mexican', 'Open', 'in', 'February', ':', 'Rafael', 'Nadal', 'is', 'set', 'to', 'play', 'at', 'the', 'Me', '...', 'http://t.co/zgUXpcnC', '#LiveWireAthletics']\n",
      "\n",
      "\n",
      "['@MsSheLahY', 'I', 'didnt', 'want', 'to', 'just', 'pop', 'up', '...', 'but', 'yep', 'we', 'have', 'chapel', 'hill', 'next', 'wednesday', 'you', 'should', 'come', '..', 'and', 'shes', 'great', 'ill', 'tell', 'her', 'you', 'asked']\n",
      "\n",
      "\n",
      "['@Alyoup005', '@addicted2haley', 'hmmmm', 'November', 'is', 'an', 'odd', 'release', 'date', 'if', 'true', 'but', 'if', 'it', 'becomes', 'big', 'enough', 'maybe', 'she', 'could', 'sing', 'it', 'at', 'Grammys']\n",
      "\n",
      "\n",
      "['#Iran', 'US', 'delisting', 'MKO', 'from', 'global', 'terrorists', 'list', 'in', 'line', 'with', 'Iran', 'campaign', ':', 'Tehran', ',', 'Oct', '30', ',', 'IRNA', '-', '-', 'Secretary', '...', 'http://t.co/9wWvxEbf']\n",
      "\n",
      "\n",
      "['Good', 'Morning', 'Becky', '!', 'Thursday', 'is', 'going', 'to', 'be', 'Fantastic', '!', '@SwedenG', '@DJ4JG', '@Grdina', '@Paverlayer', '@FSBull', '@RevkahJC', '@DicksTrash', '@borderfox116']\n",
      "\n",
      "\n",
      "['Expect', 'light-moderate', 'rains', 'over', 'E', '.', 'Visayas', ';', 'Cebu', ',', 'Bohol', ',', 'Samar', '&', 'Leyte', 'have', '30-70', '%', 'chance', 'of', 'rains', 'tonight', '!', 'Expect', 'fair', 'weather', 'tomorrow', '!', 'positive']\n",
      "\n",
      "\n",
      "['One', 'ticket', 'left', 'for', 'the', '@49ers', 'game', 'tomorrow', '!', 'do', 'not', 'miss', 'the', 'rematch', 'of', 'the', 'NO', 'fucking', 'clue', 'Championship', 'game', 'against', 'the', 'NY', 'Giants', '!', 'Hit', 'me', 'up', '!']\n",
      "\n",
      "\n",
      "['AWAY', 'from', 'computer', 'away', 'fans', 'on', 'Saturday', '.', 'All', 'this', 'stuff', 'about', 'the', \"'\", 'she', 'said', 'no', \"'\", 'chant', '.', 'it', 'is', 'bollocks', '.', 'When', 'he', 'has', 'the', 'ball', ',', 'just', 'turn', 'your', 'back', 'on', 'him', '.']\n",
      "\n",
      "\n",
      "['Why', 'is', 'it', 'so', 'hard', 'to', 'find', 'the', '@TVGuideMagazine', 'these', 'days', '?', 'Went', 'to', '3', 'stores', 'for', 'the', 'Castle', 'cover', 'issue', '.', 'NONE', '.', 'Will', 'search', 'again', 'tomorrow', '...']\n",
      "\n",
      "\n",
      "['Game', '1', 'of', 'the', 'NLCS', 'and', 'a', 'rematch', 'of', 'the', 'NO', 'fucking', 'clue', 'Championship', 'game', 'tomorrow', '.', \"SF's\", 'going', 'to', 'be', 'cuuuuhraaaaaaaazeeeee']\n",
      "\n",
      "\n",
      "['@TrevorJavier', 'the', 'heat', 'game', 'may', 'cost', 'a', 'lot', 'more', '...', 'and', 'plus', 'I', 'would', 'rather', 'see', 'Austin', 'Rivers', 'play']\n",
      "\n",
      "\n",
      "['Never', 'start', 'working', 'on', 'your', 'dreams', 'and', 'goals', 'tomorrow', '...', 'tomorrow', 'never', 'comes', '...', 'if', 'it', 'means', 'anything', 'to', 'You', ',', 'ACT', 'NOW', '!', '#getafterit']\n",
      "\n",
      "\n",
      "['@TheFFAddict', 'I', 'had', 'Vick', 'and', 'Flacco', ',', 'needed', 'an', 'upgrade', '.', 'Vick', 'may', 'get', 'benched', ',', 'Jennings', 'a', 'back', 'up', 'again', 'soon', '.', 'I', 'thought', 'it', 'was', 'a', 'win', 'for', 'me', '.']\n",
      "\n",
      "\n",
      "['Looks', 'like', 'Andy', 'the', 'Android', 'may', 'have', 'had', 'a', 'little', 'too', 'much', 'fun', 'yesterday', '.', 'http://t.co/7ZDEfzEC']\n",
      "\n",
      "\n",
      "['@APGPhoto', 'oooh', 'nice', '..', 'Is', 'tempting', 'to', 'go', 'up', 'the', 'lakes', 'with', 'my', 'Nikon', '...', 'Hmmmm', 'I', 'may', 'do', 'that', '..']\n",
      "\n",
      "\n",
      "['BLACK', 'FRIDAY', 'Huge', 'Saving', 'Aerial', 'View', 'of', 'a', 'City', ',', 'Paris', 'Las', 'Vegas', ',', 'the', 'Las', 'Vegas', 'Strip', ',', 'Las', 'Vegas', ',', '...', 'http://t.co/DCTgeSED']\n",
      "\n",
      "\n",
      "['@MelmurMel', '@PBandJenelley_1', '@vl_delp_ham_', 'Jenelle', 'lies', ',', '1st', 'she', 'said', 'she', 'was', 'alone', '&', 'the', 'hosp.now', 'she', 'is', 'saying', 'how', 'weird', 'it', 'was', 'for', \"Keiffer's\"]\n",
      "\n",
      "\n",
      "['@MyBeautyisBrown', 'LAUGHING', 'my', 'fucking', 'ass', 'off', 'his', 'big', 'ass', 'get', 'on', 'my', 'nerves', ',', 'you', 'going', 'to', 'class', 'tomorrow', '?']\n",
      "\n",
      "\n",
      "['Mohamed', 'Morsi', ',', \"Egypt's\", 'Muslim', 'Brotherhood', 'president', ',', 'instructed', 'the', 'Supreme', 'Council', 'of', 'the', 'Armed', 'Forces', 'Thursday', '...', 'http://t.co/NnBeUvSt']\n",
      "\n",
      "\n",
      "[\"C'mon\", 'Avila', '!', 'You', 'just', 'got', 'tagged', 'out', 'by', 'a', 'guy', 'who', 'looks', 'like', 'the', 'kid', 'Bill', 'Murray', 'was', 'researching', 'in', 'The', 'Royal', 'Tenenbaums', '!', '#Tigers']\n",
      "\n",
      "\n",
      "['@thehuwdavies', 'you', 'think', 'the', 'Boro', 'will', 'beat', 'Swansea', '?', 'i', 'am', 'not', 'so', 'sure', ',', 'December', '/', 'January', 'is', 'when', 'we', 'implode']\n",
      "\n",
      "\n",
      "['At', 'the', 'first', 'Grammy', 'Awards', ',', 'held', 'on', 'for', 'May', '1959', ',', 'Domenico', 'Modugno', 'beat', 'out', 'Frank', 'Sinatra', 'and', 'Peggy', 'Lee', 'for', 'the', 'Record', 'of', 'the', 'Year', ',', 'with', 'Volare']\n",
      "\n",
      "\n",
      "['@JennetteMcHevan', 'I', 'have', 'studied', 'all', 'day', 'but', 'tomorrow', 'i', 'am', 'going', 'out', 'with', 'friends', '!', 'positive', 'Oh', 'my', 'god', 'Jennette', 'did', '?', '!', '!', '!', 'i', 'am', 'going', 'to', 'look', '!', 'positive']\n",
      "\n",
      "\n",
      "['Good', 'morning', 'Thursday', '.', '\"', 'Life', 'is', 'fragile', '.', 'we', 'are', 'not', 'guaranteed', 'a', 'tomorrow', 'so', 'give', 'it', 'everything', \"you've\", 'got', '.', '\"', '-', 'Tim', 'Cook', '[', 'Do', 'it', 'for', 'Jobs', '!', ']']\n",
      "\n",
      "\n",
      "['#Twitition', 'Mcfly', 'come', 'back', 'to', 'Argentina', 'but', 'this', 'time', 'we', 'want', 'to', 'come', 'to', 'mar', 'del', 'plata', '!', '!', '!', 'http://t.co/DlXY0LCg']\n",
      "\n",
      "\n",
      "['@Astrochologist', 'anything', '.', 'I', 'wondered', 'how', 'the', 'aspects', 'between', 'my', 'sun', '/', 'moon', 'faired', 'with', 'my', 'rising', '.', 'I', 'also', 'have', 'Venus', 'in', 'Sag', '...', 'yeah', 'laughing', 'out', 'loud', 'Thank', 'you', 'positive']\n",
      "\n",
      "\n",
      "['My', 'teachers', 'call', 'themselves', 'givng', 'us', 'candy', '...', \"wasn't\", 'even', 'the', 'GOOD', 'stuff', '.', 'I', 'might', 'go', 'to', 'Walmart', 'or', 'CVS', 'tomorrow', '/']\n",
      "\n",
      "\n",
      "['#Broncos', 'Peyton', 'Manning', 'named', 'AWAY', 'from', 'computer', 'Offensive', 'Player', 'of', 'the', 'month', '.', 'it', 'is', 'his', '5th', 'such', 'honor', ',', 'second', 'to', 'Tom', \"Brady's\", '6', ',', 'tied', 'w', '/', 'TD', '.']\n",
      "\n",
      "\n",
      "['@TooZany', 'is', 'bringing', 'out', 'Kendrick', 'Lamar', 'the', '6th', 'of', 'December', '!', '?', '!', 'Get', 'your', 'tickets', 'now', '!']\n",
      "\n",
      "\n",
      "[\"Andre's\", 'Wigan', 'Warning', '-', '#COYS', 'Official', 'Site', 'Wigan', 'might', 'currently', 'occupy', '15th', 'place', 'in', 'the', 'Premier', 'League', ',', '...', 'http://t.co/3mo7WIWd']\n",
      "\n",
      "\n",
      "['@juice005', 'strange', 'enough', ',', 'i', 'am', 'going', 'to', 'see', 'Noel', 'Gallagher', 'in', 'concert', 'tomorrow', 'night', '.', '#alldayb1tch']\n",
      "\n",
      "\n",
      "['How', 'are', 'they', 'going', 'to', 'act', 'in', 'new', 'york', 'with', 'the', 'subways', 'out', '?', 'They', 'better', 'clutch', 'it', 'out', 'like', 'Eli', 'Manning', '4th', 'quarter']\n",
      "\n",
      "\n",
      "['Homegrown', 'talent', 'missing', 'on', 'Signing', 'Day', ':', 'Throughout', 'most', 'of', 'the', 'day', 'on', 'Wednesday', ',', 'the', 'video', 'scoreboard', '...', 'http://t.co/6dZ2hQkD', '#Raleigh']\n",
      "\n",
      "\n",
      "['taylor', 'swift', 'is', 'coming', 'with', 'ed', 'sheeran', 'june', '29th', '?', 'most', 'perf', 'news', 'i', 'have', 'heard', 'all', 'night', '.']\n",
      "\n",
      "\n",
      "['The', 'great', 'Noel', 'Gallagher', 'is', 'about', 'to', 'hit', 'the', 'stage', 'in', 'Stop', 'that', '.', 'Paul', '.', 'Plenty', 'of', 'room', 'here', 'so', 'we', 'are', '4th', 'row', 'center', '.', 'Plenty', 'of', 'room', '.', 'Pretty', 'fired', 'up']\n",
      "\n",
      "\n",
      "['@lala_cox', 'There', 'are', 'going', 'to', 'be', 'plenty', 'of', 'ups', '&', 'downs', 'for', 'Boro', ',', 'Cardiff', ',', 'Leicester', 'etc', 'until', 'May', '.', 'I', 'hope', 'we', 'are', 'still', 'in', 'with', 'a', 'shout', 'for', 'promo']\n",
      "\n",
      "\n",
      "['@joeeewilliams', 'that', 'sucks', ',', 'amazon', 'might', 'have', 'some', 'left', '..', 'hate', 'that', 'i', 'will', 'not', 'have', 'it', 'until', '11am', 'on', 'Tuesday', 'though']\n",
      "\n",
      "\n",
      "['Playing', 'as', 'the', 'Browns', 'HOW', 'come', 'Ok', '.', 'Fri', 'in', '#Madden13', ',', 'XFacalac', 'lost', 'to', 'the', 'Ravens', '21-28', 'on', 'All-Madden', '#ConnectedCareers']\n",
      "\n",
      "\n",
      "['@rosanne_89', 'Nooooooooo', 'rosanne', '!', 'they', 'have', 'just', 'restocked', 'them', 'and', 'me', 'going', 'overseas', 'Sunday', 'means', 'I', 'can', 'not', 'afford', 'them', \":'(\"]\n",
      "\n",
      "\n",
      "['The', 'pain', 'is', 'far', 'deeper', 'than', 'a', 'Billy', 'cundiff', 'missed', 'field', 'goal', '.', 'Got', 'to', 'wake', 'up', 'and', 'forget', 'about', 'it', 'tomorrow', '.', '#Orioles', '#stayhungry']\n",
      "\n",
      "\n",
      "['@grandvincenzo', 'on', 'November', '16', 'be', 'ready', 'to', 'head', 'to', 'the', 'movies', '.', 'Breaking', 'Dawn', ':', 'Part', 'too', '.', '(;']\n",
      "\n",
      "\n",
      "['after', 'seeing', '@Iam_FaithReid', \"'\", 's', 'tweet', 'about', 'watching', 'The', 'Vow', ',', 'I', 'think', 'I', 'may', 'need', 'to', 'watch', 'it', '.']\n",
      "\n",
      "\n"
     ]
    }
   ],
   "source": [
    "start = 0\n",
    "end = 50\n",
    "for tweet in raw_tweets[start:end]:\n",
    "    print (tweet)\n",
    "    print ('\\n')"
   ]
  },
  {
   "cell_type": "code",
   "execution_count": 14,
   "metadata": {
    "collapsed": false
   },
   "outputs": [],
   "source": [
    "negation_words = set(['barely', 'hardly', 'lack', 'never', 'neither', 'no', 'nobody', \\\n",
    "                      'not', 'nothing', 'none', 'nowhere', 'shortage', 'scarcely'])\n",
    "punctuations = [',', '.', ':', ';', '!', '?']\n",
    "\n",
    "def handle_negation(tweet):\n",
    "    output = []\n",
    "    negate = False\n",
    "    for word in tweet:\n",
    "        if word[-1] in punctuations and negate:\n",
    "            negate = False\n",
    "        if negate and not word.lower() in negation_words:\n",
    "            output.append(word+\"_not\")\n",
    "        else:\n",
    "            output.append(word)\n",
    "        if word.lower() in negation_words and not negate:\n",
    "            negate = True\n",
    "        elif word.lower() in negation_words and negate:\n",
    "            negate = False\n",
    "    return output\n",
    "\n",
    "raw_tweets = [handle_negation(tweet) for tweet in raw_tweets]"
   ]
  },
  {
   "cell_type": "code",
   "execution_count": 15,
   "metadata": {
    "collapsed": false
   },
   "outputs": [
    {
     "name": "stdout",
     "output_type": "stream",
     "text": [
      "['Gas', 'by', 'my', 'house', 'hit', '$', '3.39', '!', '!', '!', 'i', 'am', 'going', 'to', 'Chapel', 'Hill', 'on', 'Sat', '.', 'positive']\n",
      "\n",
      "\n",
      "['Iranian', 'general', 'says', \"Israel's\", 'Iron', 'Dome', 'can', 'not', 'deal_not', 'with_not', 'their_not', 'missiles_not', '(_not', 'keep_not', 'talking_not', 'like_not', 'that_not', 'and_not', 'we_not', 'may_not', 'end_not', 'up_not', 'finding_not', 'out_not', ')_not']\n",
      "\n",
      "\n",
      "['with', 'J', 'Davlar', '11th', '.', 'Main', 'rivals', 'are', 'team', 'Poland', '.', 'Hopefully', 'we', 'an', 'make', 'it', 'a', 'successful', 'end', 'to', 'a', 'tough', 'week', 'of', 'training', 'tomorrow', '.']\n",
      "\n",
      "\n",
      "['Talking', 'about', \"ACT's\", '&', '&', \"SAT's\", ',', 'deciding', 'where', 'I', 'want', 'to', 'go', 'to', 'college', ',', 'applying', 'to', 'colleges', 'and', 'everything', 'about', 'college', 'stresses', 'me', 'out', '.']\n",
      "\n",
      "\n",
      "['They', 'may', 'have', 'a', 'SuperBowl', 'in', 'Dallas', ',', 'but', 'Dallas', 'am', 'not', 'winning_not', 'a_not', 'SuperBowl_not', '.', 'Not', 'with_not', 'that_not', 'quarterback_not', 'and_not', 'owner_not', '.', '@S4NYC', '@RasmussenPoll']\n",
      "\n",
      "\n",
      "['Instant', 'message', 'bringing', 'the', 'monster', 'load', 'of', 'candy', 'tomorrow', ',', 'I', 'just', 'hope', 'it', 'does', 'not', 'get_not', 'all_not', 'squiched_not']\n",
      "\n",
      "\n",
      "['Apple', 'software', ',', 'retail', 'chiefs', 'out', 'in', 'overhaul', ':', 'SAN', 'FRANCISCO', 'Apple', 'Inc', 'CEO', 'Tim', 'Cook', 'on', 'Monday', 'replaced', 'the', 'heads', '...', 'http://t.co/X49ZEOsG']\n",
      "\n",
      "\n",
      "['@oluoch', '@victor_otti', '@kunjand', 'I', 'just', 'watched', 'it', '!', \"Sridevi's\", 'comeback', '...', 'You', 'remember', 'her', 'from', 'the', '90s', '?', '?', 'Sun', 'mornings', 'on', 'NTA', 'positive']\n",
      "\n",
      "\n",
      "['#Livewire', 'Nadal', 'confirmed', 'for', 'Mexican', 'Open', 'in', 'February', ':', 'Rafael', 'Nadal', 'is', 'set', 'to', 'play', 'at', 'the', 'Me', '...', 'http://t.co/zgUXpcnC', '#LiveWireAthletics']\n",
      "\n",
      "\n",
      "['@MsSheLahY', 'I', 'didnt', 'want', 'to', 'just', 'pop', 'up', '...', 'but', 'yep', 'we', 'have', 'chapel', 'hill', 'next', 'wednesday', 'you', 'should', 'come', '..', 'and', 'shes', 'great', 'ill', 'tell', 'her', 'you', 'asked']\n",
      "\n",
      "\n",
      "['@Alyoup005', '@addicted2haley', 'hmmmm', 'November', 'is', 'an', 'odd', 'release', 'date', 'if', 'true', 'but', 'if', 'it', 'becomes', 'big', 'enough', 'maybe', 'she', 'could', 'sing', 'it', 'at', 'Grammys']\n",
      "\n",
      "\n",
      "['#Iran', 'US', 'delisting', 'MKO', 'from', 'global', 'terrorists', 'list', 'in', 'line', 'with', 'Iran', 'campaign', ':', 'Tehran', ',', 'Oct', '30', ',', 'IRNA', '-', '-', 'Secretary', '...', 'http://t.co/9wWvxEbf']\n",
      "\n",
      "\n",
      "['Good', 'Morning', 'Becky', '!', 'Thursday', 'is', 'going', 'to', 'be', 'Fantastic', '!', '@SwedenG', '@DJ4JG', '@Grdina', '@Paverlayer', '@FSBull', '@RevkahJC', '@DicksTrash', '@borderfox116']\n",
      "\n",
      "\n",
      "['Expect', 'light-moderate', 'rains', 'over', 'E', '.', 'Visayas', ';', 'Cebu', ',', 'Bohol', ',', 'Samar', '&', 'Leyte', 'have', '30-70', '%', 'chance', 'of', 'rains', 'tonight', '!', 'Expect', 'fair', 'weather', 'tomorrow', '!', 'positive']\n",
      "\n",
      "\n",
      "['One', 'ticket', 'left', 'for', 'the', '@49ers', 'game', 'tomorrow', '!', 'do', 'not', 'miss_not', 'the_not', 'rematch_not', 'of_not', 'the_not', 'NO', 'fucking', 'clue', 'Championship', 'game', 'against', 'the', 'NY', 'Giants', '!', 'Hit', 'me', 'up', '!']\n",
      "\n",
      "\n",
      "['AWAY', 'from', 'computer', 'away', 'fans', 'on', 'Saturday', '.', 'All', 'this', 'stuff', 'about', 'the', \"'\", 'she', 'said', 'no', \"'_not\", 'chant_not', '.', 'it', 'is', 'bollocks', '.', 'When', 'he', 'has', 'the', 'ball', ',', 'just', 'turn', 'your', 'back', 'on', 'him', '.']\n",
      "\n",
      "\n",
      "['Why', 'is', 'it', 'so', 'hard', 'to', 'find', 'the', '@TVGuideMagazine', 'these', 'days', '?', 'Went', 'to', '3', 'stores', 'for', 'the', 'Castle', 'cover', 'issue', '.', 'NONE', '.', 'Will', 'search', 'again', 'tomorrow', '...']\n",
      "\n",
      "\n",
      "['Game', '1', 'of', 'the', 'NLCS', 'and', 'a', 'rematch', 'of', 'the', 'NO', 'fucking_not', 'clue_not', 'Championship_not', 'game_not', 'tomorrow_not', '.', \"SF's\", 'going', 'to', 'be', 'cuuuuhraaaaaaaazeeeee']\n",
      "\n",
      "\n",
      "['@TrevorJavier', 'the', 'heat', 'game', 'may', 'cost', 'a', 'lot', 'more', '...', 'and', 'plus', 'I', 'would', 'rather', 'see', 'Austin', 'Rivers', 'play']\n",
      "\n",
      "\n",
      "['Never', 'start_not', 'working_not', 'on_not', 'your_not', 'dreams_not', 'and_not', 'goals_not', 'tomorrow_not', '...', 'tomorrow', 'never', 'comes_not', '...', 'if', 'it', 'means', 'anything', 'to', 'You', ',', 'ACT', 'NOW', '!', '#getafterit']\n",
      "\n",
      "\n",
      "['@TheFFAddict', 'I', 'had', 'Vick', 'and', 'Flacco', ',', 'needed', 'an', 'upgrade', '.', 'Vick', 'may', 'get', 'benched', ',', 'Jennings', 'a', 'back', 'up', 'again', 'soon', '.', 'I', 'thought', 'it', 'was', 'a', 'win', 'for', 'me', '.']\n",
      "\n",
      "\n",
      "['Looks', 'like', 'Andy', 'the', 'Android', 'may', 'have', 'had', 'a', 'little', 'too', 'much', 'fun', 'yesterday', '.', 'http://t.co/7ZDEfzEC']\n",
      "\n",
      "\n",
      "['@APGPhoto', 'oooh', 'nice', '..', 'Is', 'tempting', 'to', 'go', 'up', 'the', 'lakes', 'with', 'my', 'Nikon', '...', 'Hmmmm', 'I', 'may', 'do', 'that', '..']\n",
      "\n",
      "\n",
      "['BLACK', 'FRIDAY', 'Huge', 'Saving', 'Aerial', 'View', 'of', 'a', 'City', ',', 'Paris', 'Las', 'Vegas', ',', 'the', 'Las', 'Vegas', 'Strip', ',', 'Las', 'Vegas', ',', '...', 'http://t.co/DCTgeSED']\n",
      "\n",
      "\n",
      "['@MelmurMel', '@PBandJenelley_1', '@vl_delp_ham_', 'Jenelle', 'lies', ',', '1st', 'she', 'said', 'she', 'was', 'alone', '&', 'the', 'hosp.now', 'she', 'is', 'saying', 'how', 'weird', 'it', 'was', 'for', \"Keiffer's\"]\n",
      "\n",
      "\n",
      "['@MyBeautyisBrown', 'LAUGHING', 'my', 'fucking', 'ass', 'off', 'his', 'big', 'ass', 'get', 'on', 'my', 'nerves', ',', 'you', 'going', 'to', 'class', 'tomorrow', '?']\n",
      "\n",
      "\n",
      "['Mohamed', 'Morsi', ',', \"Egypt's\", 'Muslim', 'Brotherhood', 'president', ',', 'instructed', 'the', 'Supreme', 'Council', 'of', 'the', 'Armed', 'Forces', 'Thursday', '...', 'http://t.co/NnBeUvSt']\n",
      "\n",
      "\n",
      "[\"C'mon\", 'Avila', '!', 'You', 'just', 'got', 'tagged', 'out', 'by', 'a', 'guy', 'who', 'looks', 'like', 'the', 'kid', 'Bill', 'Murray', 'was', 'researching', 'in', 'The', 'Royal', 'Tenenbaums', '!', '#Tigers']\n",
      "\n",
      "\n",
      "['@thehuwdavies', 'you', 'think', 'the', 'Boro', 'will', 'beat', 'Swansea', '?', 'i', 'am', 'not', 'so_not', 'sure_not', ',', 'December', '/', 'January', 'is', 'when', 'we', 'implode']\n",
      "\n",
      "\n",
      "['At', 'the', 'first', 'Grammy', 'Awards', ',', 'held', 'on', 'for', 'May', '1959', ',', 'Domenico', 'Modugno', 'beat', 'out', 'Frank', 'Sinatra', 'and', 'Peggy', 'Lee', 'for', 'the', 'Record', 'of', 'the', 'Year', ',', 'with', 'Volare']\n",
      "\n",
      "\n",
      "['@JennetteMcHevan', 'I', 'have', 'studied', 'all', 'day', 'but', 'tomorrow', 'i', 'am', 'going', 'out', 'with', 'friends', '!', 'positive', 'Oh', 'my', 'god', 'Jennette', 'did', '?', '!', '!', '!', 'i', 'am', 'going', 'to', 'look', '!', 'positive']\n",
      "\n",
      "\n",
      "['Good', 'morning', 'Thursday', '.', '\"', 'Life', 'is', 'fragile', '.', 'we', 'are', 'not', 'guaranteed_not', 'a_not', 'tomorrow_not', 'so_not', 'give_not', 'it_not', 'everything_not', \"you've_not\", 'got_not', '.', '\"', '-', 'Tim', 'Cook', '[', 'Do', 'it', 'for', 'Jobs', '!', ']']\n",
      "\n",
      "\n",
      "['#Twitition', 'Mcfly', 'come', 'back', 'to', 'Argentina', 'but', 'this', 'time', 'we', 'want', 'to', 'come', 'to', 'mar', 'del', 'plata', '!', '!', '!', 'http://t.co/DlXY0LCg']\n",
      "\n",
      "\n",
      "['@Astrochologist', 'anything', '.', 'I', 'wondered', 'how', 'the', 'aspects', 'between', 'my', 'sun', '/', 'moon', 'faired', 'with', 'my', 'rising', '.', 'I', 'also', 'have', 'Venus', 'in', 'Sag', '...', 'yeah', 'laughing', 'out', 'loud', 'Thank', 'you', 'positive']\n",
      "\n",
      "\n",
      "['My', 'teachers', 'call', 'themselves', 'givng', 'us', 'candy', '...', \"wasn't\", 'even', 'the', 'GOOD', 'stuff', '.', 'I', 'might', 'go', 'to', 'Walmart', 'or', 'CVS', 'tomorrow', '/']\n",
      "\n",
      "\n",
      "['#Broncos', 'Peyton', 'Manning', 'named', 'AWAY', 'from', 'computer', 'Offensive', 'Player', 'of', 'the', 'month', '.', 'it', 'is', 'his', '5th', 'such', 'honor', ',', 'second', 'to', 'Tom', \"Brady's\", '6', ',', 'tied', 'w', '/', 'TD', '.']\n",
      "\n",
      "\n",
      "['@TooZany', 'is', 'bringing', 'out', 'Kendrick', 'Lamar', 'the', '6th', 'of', 'December', '!', '?', '!', 'Get', 'your', 'tickets', 'now', '!']\n",
      "\n",
      "\n",
      "[\"Andre's\", 'Wigan', 'Warning', '-', '#COYS', 'Official', 'Site', 'Wigan', 'might', 'currently', 'occupy', '15th', 'place', 'in', 'the', 'Premier', 'League', ',', '...', 'http://t.co/3mo7WIWd']\n",
      "\n",
      "\n",
      "['@juice005', 'strange', 'enough', ',', 'i', 'am', 'going', 'to', 'see', 'Noel', 'Gallagher', 'in', 'concert', 'tomorrow', 'night', '.', '#alldayb1tch']\n",
      "\n",
      "\n",
      "['How', 'are', 'they', 'going', 'to', 'act', 'in', 'new', 'york', 'with', 'the', 'subways', 'out', '?', 'They', 'better', 'clutch', 'it', 'out', 'like', 'Eli', 'Manning', '4th', 'quarter']\n",
      "\n",
      "\n",
      "['Homegrown', 'talent', 'missing', 'on', 'Signing', 'Day', ':', 'Throughout', 'most', 'of', 'the', 'day', 'on', 'Wednesday', ',', 'the', 'video', 'scoreboard', '...', 'http://t.co/6dZ2hQkD', '#Raleigh']\n",
      "\n",
      "\n",
      "['taylor', 'swift', 'is', 'coming', 'with', 'ed', 'sheeran', 'june', '29th', '?', 'most', 'perf', 'news', 'i', 'have', 'heard', 'all', 'night', '.']\n",
      "\n",
      "\n",
      "['The', 'great', 'Noel', 'Gallagher', 'is', 'about', 'to', 'hit', 'the', 'stage', 'in', 'Stop', 'that', '.', 'Paul', '.', 'Plenty', 'of', 'room', 'here', 'so', 'we', 'are', '4th', 'row', 'center', '.', 'Plenty', 'of', 'room', '.', 'Pretty', 'fired', 'up']\n",
      "\n",
      "\n",
      "['@lala_cox', 'There', 'are', 'going', 'to', 'be', 'plenty', 'of', 'ups', '&', 'downs', 'for', 'Boro', ',', 'Cardiff', ',', 'Leicester', 'etc', 'until', 'May', '.', 'I', 'hope', 'we', 'are', 'still', 'in', 'with', 'a', 'shout', 'for', 'promo']\n",
      "\n",
      "\n",
      "['@joeeewilliams', 'that', 'sucks', ',', 'amazon', 'might', 'have', 'some', 'left', '..', 'hate', 'that', 'i', 'will', 'not', 'have_not', 'it_not', 'until_not', '11am_not', 'on_not', 'Tuesday_not', 'though_not']\n",
      "\n",
      "\n",
      "['Playing', 'as', 'the', 'Browns', 'HOW', 'come', 'Ok', '.', 'Fri', 'in', '#Madden13', ',', 'XFacalac', 'lost', 'to', 'the', 'Ravens', '21-28', 'on', 'All-Madden', '#ConnectedCareers']\n",
      "\n",
      "\n",
      "['@rosanne_89', 'Nooooooooo', 'rosanne', '!', 'they', 'have', 'just', 'restocked', 'them', 'and', 'me', 'going', 'overseas', 'Sunday', 'means', 'I', 'can', 'not', 'afford_not', 'them_not', \":'(_not\"]\n",
      "\n",
      "\n",
      "['The', 'pain', 'is', 'far', 'deeper', 'than', 'a', 'Billy', 'cundiff', 'missed', 'field', 'goal', '.', 'Got', 'to', 'wake', 'up', 'and', 'forget', 'about', 'it', 'tomorrow', '.', '#Orioles', '#stayhungry']\n",
      "\n",
      "\n",
      "['@grandvincenzo', 'on', 'November', '16', 'be', 'ready', 'to', 'head', 'to', 'the', 'movies', '.', 'Breaking', 'Dawn', ':', 'Part', 'too', '.', '(;']\n",
      "\n",
      "\n",
      "['after', 'seeing', '@Iam_FaithReid', \"'\", 's', 'tweet', 'about', 'watching', 'The', 'Vow', ',', 'I', 'think', 'I', 'may', 'need', 'to', 'watch', 'it', '.']\n",
      "\n",
      "\n"
     ]
    }
   ],
   "source": [
    "start = 0\n",
    "end = 50\n",
    "for tweet in raw_tweets[start:end]:\n",
    "    print (tweet)\n",
    "    print ('\\n')"
   ]
  },
  {
   "cell_type": "code",
   "execution_count": 16,
   "metadata": {
    "collapsed": false
   },
   "outputs": [
    {
     "name": "stdout",
     "output_type": "stream",
     "text": [
      "7205\n"
     ]
    }
   ],
   "source": [
    "def preprocess(tweet):\n",
    "    tweet = ' '.join(tweet) #change from 'list' to str\n",
    "    # delete symbols and URIs and tags (keep # and _)\n",
    "    tweet =  ' '.join(re.sub(\"(@[A-Za-z0-9_]+)|([^0-9A-Za-z_#' \\t])|(\\w+:\\/\\/\\S+)\", '', tweet).split())\n",
    "    # Convert '@username' to 'at_user'\n",
    "    # tweet = re.sub('@[^\\s]+','at_user',tweet)\n",
    "    # remove hashtags\n",
    "    # tweet = re.sub(r'#\\s', '', tweet)\n",
    "    # remove numbers\n",
    "    tweet = re.sub('[0-9]', '', tweet)\n",
    "    # remove additional spaces\n",
    "    tweet = re.sub('[\\s]+', ' ', tweet)\n",
    "    # replace the occurrence of 2 or more characters in a word, eg. loooong -> loong\n",
    "    tweet = re.sub(r'(.)\\1{2,}', r'\\1\\1', tweet)\n",
    "    return tweet\n",
    "\n",
    "preprocessed_tweets = [preprocess(tweet) for tweet in raw_tweets]\n",
    "print (len(preprocessed_tweets))"
   ]
  },
  {
   "cell_type": "code",
   "execution_count": 17,
   "metadata": {
    "collapsed": false
   },
   "outputs": [
    {
     "name": "stdout",
     "output_type": "stream",
     "text": [
      "Gas by my house hit i am going to Chapel Hill on Sat positive\n",
      "\n",
      "\n",
      "Iranian general says Israel's Iron Dome can not deal_not with_not their_not missiles_not _not keep_not talking_not like_not that_not and_not we_not may_not end_not up_not finding_not out_not _not\n",
      "\n",
      "\n",
      "with J Davlar th Main rivals are team Poland Hopefully we an make it a successful end to a tough week of training tomorrow\n",
      "\n",
      "\n",
      "Talking about ACT's SAT's deciding where I want to go to college applying to colleges and everything about college stresses me out\n",
      "\n",
      "\n",
      "They may have a SuperBowl in Dallas but Dallas am not winning_not a_not SuperBowl_not Not with_not that_not quarterback_not and_not owner_not\n",
      "\n",
      "\n",
      "Instant message bringing the monster load of candy tomorrow I just hope it does not get_not all_not squiched_not\n",
      "\n",
      "\n",
      "Apple software retail chiefs out in overhaul SAN FRANCISCO Apple Inc CEO Tim Cook on Monday replaced the heads\n",
      "\n",
      "\n",
      "I just watched it Sridevi's comeback You remember her from the s Sun mornings on NTA positive\n",
      "\n",
      "\n",
      "#Livewire Nadal confirmed for Mexican Open in February Rafael Nadal is set to play at the Me #LiveWireAthletics\n",
      "\n",
      "\n",
      "I didnt want to just pop up but yep we have chapel hill next wednesday you should come and shes great ill tell her you asked\n",
      "\n",
      "\n",
      "hmm November is an odd release date if true but if it becomes big enough maybe she could sing it at Grammys\n",
      "\n",
      "\n",
      "#Iran US delisting MKO from global terrorists list in line with Iran campaign Tehran Oct IRNA Secretary\n",
      "\n",
      "\n",
      "Good Morning Becky Thursday is going to be Fantastic\n",
      "\n",
      "\n",
      "Expect lightmoderate rains over E Visayas Cebu Bohol Samar Leyte have chance of rains tonight Expect fair weather tomorrow positive\n",
      "\n",
      "\n",
      "One ticket left for the game tomorrow do not miss_not the_not rematch_not of_not the_not NO fucking clue Championship game against the NY Giants Hit me up\n",
      "\n",
      "\n",
      "AWAY from computer away fans on Saturday All this stuff about the ' she said no '_not chant_not it is bollocks When he has the ball just turn your back on him\n",
      "\n",
      "\n",
      "Why is it so hard to find the these days Went to stores for the Castle cover issue NONE Will search again tomorrow\n",
      "\n",
      "\n",
      "Game of the NLCS and a rematch of the NO fucking_not clue_not Championship_not game_not tomorrow_not SF's going to be cuuhraazee\n",
      "\n",
      "\n",
      "the heat game may cost a lot more and plus I would rather see Austin Rivers play\n",
      "\n",
      "\n",
      "Never start_not working_not on_not your_not dreams_not and_not goals_not tomorrow_not tomorrow never comes_not if it means anything to You ACT NOW #getafterit\n",
      "\n",
      "\n",
      "I had Vick and Flacco needed an upgrade Vick may get benched Jennings a back up again soon I thought it was a win for me\n",
      "\n",
      "\n",
      "Looks like Andy the Android may have had a little too much fun yesterday\n",
      "\n",
      "\n",
      "ooh nice Is tempting to go up the lakes with my Nikon Hmm I may do that\n",
      "\n",
      "\n",
      "BLACK FRIDAY Huge Saving Aerial View of a City Paris Las Vegas the Las Vegas Strip Las Vegas\n",
      "\n",
      "\n",
      "Jenelle lies st she said she was alone the hospnow she is saying how weird it was for Keiffer's\n",
      "\n",
      "\n",
      "LAUGHING my fucking ass off his big ass get on my nerves you going to class tomorrow\n",
      "\n",
      "\n",
      "Mohamed Morsi Egypt's Muslim Brotherhood president instructed the Supreme Council of the Armed Forces Thursday\n",
      "\n",
      "\n",
      "C'mon Avila You just got tagged out by a guy who looks like the kid Bill Murray was researching in The Royal Tenenbaums #Tigers\n",
      "\n",
      "\n",
      "you think the Boro will beat Swansea i am not so_not sure_not December January is when we implode\n",
      "\n",
      "\n",
      "At the first Grammy Awards held on for May Domenico Modugno beat out Frank Sinatra and Peggy Lee for the Record of the Year with Volare\n",
      "\n",
      "\n",
      "I have studied all day but tomorrow i am going out with friends positive Oh my god Jennette did i am going to look positive\n",
      "\n",
      "\n",
      "Good morning Thursday Life is fragile we are not guaranteed_not a_not tomorrow_not so_not give_not it_not everything_not you've_not got_not Tim Cook Do it for Jobs\n",
      "\n",
      "\n",
      "#Twitition Mcfly come back to Argentina but this time we want to come to mar del plata\n",
      "\n",
      "\n",
      "anything I wondered how the aspects between my sun moon faired with my rising I also have Venus in Sag yeah laughing out loud Thank you positive\n",
      "\n",
      "\n",
      "My teachers call themselves givng us candy wasn't even the GOOD stuff I might go to Walmart or CVS tomorrow\n",
      "\n",
      "\n",
      "#Broncos Peyton Manning named AWAY from computer Offensive Player of the month it is his th such honor second to Tom Brady's tied w TD\n",
      "\n",
      "\n",
      "is bringing out Kendrick Lamar the th of December Get your tickets now\n",
      "\n",
      "\n",
      "Andre's Wigan Warning #COYS Official Site Wigan might currently occupy th place in the Premier League\n",
      "\n",
      "\n",
      "strange enough i am going to see Noel Gallagher in concert tomorrow night #alldaybtch\n",
      "\n",
      "\n",
      "How are they going to act in new york with the subways out They better clutch it out like Eli Manning th quarter\n",
      "\n",
      "\n",
      "Homegrown talent missing on Signing Day Throughout most of the day on Wednesday the video scoreboard #Raleigh\n",
      "\n",
      "\n",
      "taylor swift is coming with ed sheeran june th most perf news i have heard all night\n",
      "\n",
      "\n",
      "The great Noel Gallagher is about to hit the stage in Stop that Paul Plenty of room here so we are th row center Plenty of room Pretty fired up\n",
      "\n",
      "\n",
      "There are going to be plenty of ups downs for Boro Cardiff Leicester etc until May I hope we are still in with a shout for promo\n",
      "\n",
      "\n",
      "that sucks amazon might have some left hate that i will not have_not it_not until_not am_not on_not Tuesday_not though_not\n",
      "\n",
      "\n",
      "Playing as the Browns HOW come Ok Fri in #Madden XFacalac lost to the Ravens on AllMadden #ConnectedCareers\n",
      "\n",
      "\n",
      "Noo rosanne they have just restocked them and me going overseas Sunday means I can not afford_not them_not '_not\n",
      "\n",
      "\n",
      "The pain is far deeper than a Billy cundiff missed field goal Got to wake up and forget about it tomorrow #Orioles #stayhungry\n",
      "\n",
      "\n",
      "on November be ready to head to the movies Breaking Dawn Part too\n",
      "\n",
      "\n",
      "after seeing ' s tweet about watching The Vow I think I may need to watch it\n",
      "\n",
      "\n"
     ]
    }
   ],
   "source": [
    "start = 0\n",
    "end = 50\n",
    "for tweet in preprocessed_tweets[start:end]:\n",
    "    print (tweet)\n",
    "    print ('\\n')"
   ]
  },
  {
   "cell_type": "markdown",
   "metadata": {},
   "source": [
    "#### Delete stopwords\n",
    "https://nlp.stanford.edu/IR-book/html/htmledition/dropping-common-terms-stop-words-1.html"
   ]
  },
  {
   "cell_type": "code",
   "execution_count": 18,
   "metadata": {
    "collapsed": false
   },
   "outputs": [
    {
     "name": "stdout",
     "output_type": "stream",
     "text": [
      "358\n",
      "\n",
      "Compare tweets before / after\n"
     ]
    },
    {
     "data": {
      "text/html": [
       "<div>\n",
       "<table border=\"1\" class=\"dataframe\">\n",
       "  <thead>\n",
       "    <tr style=\"text-align: right;\">\n",
       "      <th></th>\n",
       "      <th>3</th>\n",
       "      <th>final_tweets</th>\n",
       "    </tr>\n",
       "  </thead>\n",
       "  <tbody>\n",
       "    <tr>\n",
       "      <th>0</th>\n",
       "      <td>Gas by my house hit $3.39!!!! I'm going to Cha...</td>\n",
       "      <td>Gas house hit going Chapel Hill Sat positive</td>\n",
       "    </tr>\n",
       "    <tr>\n",
       "      <th>3</th>\n",
       "      <td>Iranian general says Israel's Iron Dome can't ...</td>\n",
       "      <td>Iranian general says Israel's Iron Dome deal_n...</td>\n",
       "    </tr>\n",
       "    <tr>\n",
       "      <th>6</th>\n",
       "      <td>with J Davlar 11th. Main rivals are team Polan...</td>\n",
       "      <td>J Davlar th Main rivals team Poland Hopefully ...</td>\n",
       "    </tr>\n",
       "    <tr>\n",
       "      <th>7</th>\n",
       "      <td>Talking about ACT's &amp;amp;&amp;amp; SAT's, deciding...</td>\n",
       "      <td>Talking ACT's SAT's deciding want go college a...</td>\n",
       "    </tr>\n",
       "    <tr>\n",
       "      <th>9</th>\n",
       "      <td>They may have a SuperBowl in Dallas, but Dalla...</td>\n",
       "      <td>may SuperBowl Dallas Dallas winning_not SuperB...</td>\n",
       "    </tr>\n",
       "    <tr>\n",
       "      <th>10</th>\n",
       "      <td>Im bringing the monster load of candy tomorrow...</td>\n",
       "      <td>Instant message bringing monster load candy to...</td>\n",
       "    </tr>\n",
       "    <tr>\n",
       "      <th>11</th>\n",
       "      <td>Apple software, retail chiefs out in overhaul:...</td>\n",
       "      <td>Apple software retail chiefs overhaul SAN FRAN...</td>\n",
       "    </tr>\n",
       "    <tr>\n",
       "      <th>12</th>\n",
       "      <td>@oluoch @victor_otti @kunjand I just watched i...</td>\n",
       "      <td>watched Sridevi's comeback remember Sun mornin...</td>\n",
       "    </tr>\n",
       "    <tr>\n",
       "      <th>14</th>\n",
       "      <td>#Livewire Nadal confirmed for Mexican Open in ...</td>\n",
       "      <td>#Livewire Nadal confirmed Mexican Open Februar...</td>\n",
       "    </tr>\n",
       "    <tr>\n",
       "      <th>15</th>\n",
       "      <td>@MsSheLahY I didnt want to just pop up... but ...</td>\n",
       "      <td>didnt want pop yep chapel hill next wednesday ...</td>\n",
       "    </tr>\n",
       "  </tbody>\n",
       "</table>\n",
       "</div>"
      ],
      "text/plain": [
       "                                                    3  \\\n",
       "0   Gas by my house hit $3.39!!!! I'm going to Cha...   \n",
       "3   Iranian general says Israel's Iron Dome can't ...   \n",
       "6   with J Davlar 11th. Main rivals are team Polan...   \n",
       "7   Talking about ACT's &amp;&amp; SAT's, deciding...   \n",
       "9   They may have a SuperBowl in Dallas, but Dalla...   \n",
       "10  Im bringing the monster load of candy tomorrow...   \n",
       "11  Apple software, retail chiefs out in overhaul:...   \n",
       "12  @oluoch @victor_otti @kunjand I just watched i...   \n",
       "14  #Livewire Nadal confirmed for Mexican Open in ...   \n",
       "15  @MsSheLahY I didnt want to just pop up... but ...   \n",
       "\n",
       "                                         final_tweets  \n",
       "0        Gas house hit going Chapel Hill Sat positive  \n",
       "3   Iranian general says Israel's Iron Dome deal_n...  \n",
       "6   J Davlar th Main rivals team Poland Hopefully ...  \n",
       "7   Talking ACT's SAT's deciding want go college a...  \n",
       "9   may SuperBowl Dallas Dallas winning_not SuperB...  \n",
       "10  Instant message bringing monster load candy to...  \n",
       "11  Apple software retail chiefs overhaul SAN FRAN...  \n",
       "12  watched Sridevi's comeback remember Sun mornin...  \n",
       "14  #Livewire Nadal confirmed Mexican Open Februar...  \n",
       "15  didnt want pop yep chapel hill next wednesday ...  "
      ]
     },
     "execution_count": 18,
     "metadata": {},
     "output_type": "execute_result"
    }
   ],
   "source": [
    "stop_words = stopwords.words('english')\n",
    "stop_words.extend([word+'_not' for word in stop_words]) #negation\n",
    "stop_words = set(stop_words)\n",
    "# stop_words.update('j', 'im')\n",
    "print (len(stop_words))\n",
    "\n",
    "# remove stopwords\n",
    "def rem_stop(tweet):\n",
    "    words = tweet.split()\n",
    "    tweet = ' '.join([word for word in words if word.lower() not in stop_words])\n",
    "    return tweet\n",
    "\n",
    "final_tweets = [rem_stop(tweet) for tweet in preprocessed_tweets]\n",
    "del raw_tweets, preprocessed_tweets\n",
    "\n",
    "print(\"\\nCompare tweets before / after\")\n",
    "df['final_tweets'] = final_tweets\n",
    "df[[3, 'final_tweets']].head(10)"
   ]
  },
  {
   "cell_type": "markdown",
   "metadata": {},
   "source": [
    "***\n",
    "## <font color='red'>Lexicon Classification</font>\n",
    "***"
   ]
  },
  {
   "cell_type": "markdown",
   "metadata": {},
   "source": [
    "#### Using MPQA Lexicon\n",
    "\n",
    "These are the very first and last entries of the file 'mpqa.txt'\n",
    "- abandoned priorpolarity=negative\n",
    "- abandonment priorpolarity=negative\n",
    "- abandon priorpolarity=negative\n",
    "- abase priorpolarity=negative\n",
    "- abasement priorpolarity=negative\n",
    "- ...\n",
    "- zealot priorpolarity=negative\n",
    "- zealous priorpolarity=negative\n",
    "- zealously priorpolarity=negative\n",
    "- zenith priorpolarity=positive\n",
    "- zest priorpolarity=positive"
   ]
  },
  {
   "cell_type": "code",
   "execution_count": 19,
   "metadata": {
    "collapsed": false
   },
   "outputs": [
    {
     "name": "stdout",
     "output_type": "stream",
     "text": [
      "Number of MPQA words: 13772\n",
      "['watched', \"Sridevi's\", 'positive', 'remember', 'Sun', 'mornings', 'NTA', 'positive']\n"
     ]
    },
    {
     "data": {
      "text/plain": [
       "['neutral', 'positive', 'negative']"
      ]
     },
     "execution_count": 19,
     "metadata": {},
     "output_type": "execute_result"
    }
   ],
   "source": [
    "def MPQAdictionary(filename):\n",
    "    \"\"\"\n",
    "    reads mpqa file which contains the polarity of some of the english words. e.g. 'love': 'positive'\n",
    "    \"\"\"\n",
    "    MPQA_scores = {'priorpolarity=positive\\n': 'positive','priorpolarity=negative\\n': 'negative',\n",
    "                  'priorpolarity=neutral\\n': 'neutral', 'priorpolarity=both\\n': 'neutral'}\n",
    "    MPQA_score_list = {}\n",
    "    fi = open(filename,\"r\")\n",
    "    line = fi.readline()\n",
    "    while line: \n",
    "        li = line.split(\" \")\n",
    "        l2 = li[:-1] # the word as a list\n",
    "        sentiment=li[1] #the word's polarity\n",
    "        score=MPQA_scores[sentiment]\n",
    "        l2.append(score)\n",
    "        for i in range(0,len(l2)-1):\n",
    "            MPQA_score_list[l2[i]]=l2[-1]\n",
    "            # negation\n",
    "            if l2[-1] == 'positive':\n",
    "                MPQA_score_list[l2[i]+'_not']='positive' \n",
    "            else:\n",
    "                MPQA_score_list[l2[i]+'_not']='negative' \n",
    "        line=fi.readline()\n",
    "    return MPQA_score_list\n",
    "\n",
    "\n",
    "def subsMPQA(tweet,d):\n",
    "    l = TT.tokenize(tweet)\n",
    "    #print(l)\n",
    "    tweet = [d[i] if i in d.keys() else i for i in l]\n",
    "    return tweet\n",
    "\n",
    "dictionary = MPQAdictionary('./resources/mpqa/mpqa.txt')\n",
    "print (\"Number of MPQA words: %d\" % len(dictionary.keys()))\n",
    "raw_tweets_MPQA = [subsMPQA(tweet, dictionary) for tweet in final_tweets]\n",
    "\n",
    "print (subsMPQA(final_tweets[7], dictionary))\n",
    "# watched sridevis comeback remember sun morning nta positive\n",
    "subsMPQA(\"surprise happy abandoned\", dictionary)"
   ]
  },
  {
   "cell_type": "markdown",
   "metadata": {},
   "source": [
    "#### Using Bing Liu Lexicon\n",
    "These are the very first and last entries of the file 'positive-words.txt':\n",
    "- a+\n",
    "- abound\n",
    "- abounds\n",
    "- abundance\n",
    "- abundant\n",
    "- ...\n",
    "- youthful\n",
    "- zeal\n",
    "- zenith\n",
    "- zest\n",
    "- zippy\n",
    "\n",
    "These are the very first and last entries of the file 'negative-words.txt':\n",
    "- 2-faced\n",
    "- 2-faces\n",
    "- abnormal\n",
    "- abolish\n",
    "- abominable\n",
    "- ...\n",
    "- zaps\n",
    "- zealot\n",
    "- zealous\n",
    "- zealously\n",
    "- zombie"
   ]
  },
  {
   "cell_type": "code",
   "execution_count": 20,
   "metadata": {
    "collapsed": false
   },
   "outputs": [
    {
     "name": "stdout",
     "output_type": "stream",
     "text": [
      "Number of positive words 6789\n",
      "Number of negative words 6789\n"
     ]
    }
   ],
   "source": [
    "ENGLISH_OPINION_LEXICON_LOCATION = os.path.join('resources/opinion-lexicon-English')\n",
    "POS_WORDS_FILE = os.path.join(ENGLISH_OPINION_LEXICON_LOCATION, 'positive-words.txt')\n",
    "NEG_WORDS_FILE = os.path.join(ENGLISH_OPINION_LEXICON_LOCATION, 'negative-words.txt')\n",
    "\n",
    "pos_words = []\n",
    "neg_words = []\n",
    "\n",
    "for pos_word in open(POS_WORDS_FILE, 'r').readlines()[35:]:\n",
    "    pos_words.append(pos_word.rstrip())\n",
    "\n",
    "for neg_word in open(NEG_WORDS_FILE, 'r').readlines()[35:]:\n",
    "    neg_words.append(neg_word.rstrip())\n",
    "\n",
    "#negation\n",
    "expanded_pos = copy(pos_words)\n",
    "expanded_pos.extend([word+\"_not\" for word in neg_words])\n",
    "expanded_neg = copy(neg_words)\n",
    "expanded_neg.extend([word+\"_not\" for word in pos_words])\n",
    "\n",
    "#delete unnecessary objects\n",
    "del pos_words, neg_words\n",
    "del ENGLISH_OPINION_LEXICON_LOCATION, POS_WORDS_FILE, NEG_WORDS_FILE\n",
    "print (\"Number of positive words %d\" % len(expanded_pos))\n",
    "print (\"Number of negative words %d\" % len(expanded_neg))\n",
    "\n",
    "def subsBINGP(tweet, pos_words):\n",
    "    # l = TT.tokenize(tweet)\n",
    "    tweet = ['positive' if i in pos_words else i for i in tweet]\n",
    "    return tweet\n",
    "\n",
    "def subsBINGN(tweet, neg_words):\n",
    "    # l = TT.tokenize(tweet)\n",
    "    tweet = ['negative' if i in neg_words else i for i in tweet]\n",
    "    return tweet\n"
   ]
  },
  {
   "cell_type": "code",
   "execution_count": 21,
   "metadata": {
    "collapsed": false
   },
   "outputs": [
    {
     "data": {
      "text/plain": [
       "['positive', 'firas', 'positive']"
      ]
     },
     "execution_count": 21,
     "metadata": {},
     "output_type": "execute_result"
    }
   ],
   "source": [
    "raw_tweets_bing = [subsBINGP(tweet, expanded_pos) for tweet in raw_tweets_MPQA]\n",
    "raw_tweets_bing = [subsBINGN(tweet, expanded_neg) for tweet in raw_tweets_MPQA]\n",
    "del raw_tweets_MPQA\n",
    "\n",
    "subsBINGP(['enjoy', 'firas', 'extraordinarily'], expanded_pos)"
   ]
  },
  {
   "cell_type": "markdown",
   "metadata": {},
   "source": [
    "#### [Afinn](https://pypi.python.org/pypi/afinn)\n",
    "\n",
    "These are the very first and last entries of 'afinn.txt':\n",
    "- abandon\t-2\n",
    "- abandoned\t-2\n",
    "- abandons\t-2\n",
    "- abducted\t-2\n",
    "- abduction\t-2\n",
    "- ...\n",
    "- yucky\t-2\n",
    "- yummy\t3\n",
    "- zealot\t-2\n",
    "- zealots\t-2\n",
    "- zealous\t2"
   ]
  },
  {
   "cell_type": "code",
   "execution_count": 22,
   "metadata": {
    "collapsed": false
   },
   "outputs": [
    {
     "name": "stdout",
     "output_type": "stream",
     "text": [
      "Number of Afinn entries 4922\n"
     ]
    }
   ],
   "source": [
    "def loadAfinn(filename):\n",
    "    f=open(filename,'r')\n",
    "    afinn={}\n",
    "    line=f.readline()\n",
    "    while line:\n",
    "        if \" \" in line:   #exclude entries like 'cool stuff    3'\n",
    "            pass\n",
    "        else:\n",
    "            l=line[:-1].split('\\t') #line[:-1] removes the '\\r\\n' character\n",
    "            afinn[l[0]]=float(l[1])    # normalization -------> \n",
    "            afinn[l[0]+\"_not\"] = -float(l[1])  # negation\n",
    "        line=f.readline()\n",
    "\n",
    "    return afinn\n",
    "\n",
    "afinn = loadAfinn('./resources/afinn.txt')\n",
    "# print (afinn)\n",
    "print (\"Number of Afinn entries %d\" % len(afinn.keys()))\n",
    "\n",
    "def afinnPolarity(tweet, afinn):\n",
    "    p=0.0\n",
    "    num = 0\n",
    "    for w in tweet:\n",
    "        if w in afinn.keys():\n",
    "            num += 1\n",
    "            p+=afinn[w]\n",
    "    return p, num"
   ]
  },
  {
   "cell_type": "markdown",
   "metadata": {},
   "source": [
    "#### SemEval2015 English lexicon \n",
    "\n",
    "These are the very first and last entries of 'SemEval2015-English-Twitter-Lexicon.txt':\n",
    "- 0.984\tloves\n",
    "- 0.984\t#inspirational\n",
    "- 0.969\tamazing\n",
    "- 0.969\t#peaceful\n",
    "- 0.953\t#greatness\n",
    "- ...\n",
    "- -0.969\tabuse\n",
    "- -0.969\t#failure\n",
    "- -0.982\tkill\n",
    "- -0.984\tbitches\n",
    "- -0.984\t#disappointment"
   ]
  },
  {
   "cell_type": "code",
   "execution_count": 23,
   "metadata": {
    "collapsed": false
   },
   "outputs": [
    {
     "name": "stdout",
     "output_type": "stream",
     "text": [
      "Number of EnglishLexicon entries 3032\n"
     ]
    }
   ],
   "source": [
    "def loadSemEval(filename):\n",
    "    f=open(filename,'r')\n",
    "    lexicon={}\n",
    "    line=f.readline()\n",
    "    while line:\n",
    "        l=line[:-1].split('\\t')\n",
    "        lexicon[l[1]]=float(l[0])\n",
    "        lexicon[l[1]+'_not']=-float(l[0]) # negation\n",
    "        line=f.readline()\n",
    "\n",
    "    return lexicon\n",
    "\n",
    "EnglishLexicon = loadSemEval('./resources/SemEval2015-English-Twitter-Lexicon.txt')\n",
    "# print (EnglishLexicon)\n",
    "print (\"Number of EnglishLexicon entries %d\" % len(EnglishLexicon.keys()))\n",
    "\n",
    "\n",
    "def SemEvalLexiconPolarity(tweet, EnglishLexicon):\n",
    "    p=0.0\n",
    "    num = 0\n",
    "    for w in tweet:\n",
    "        if w in EnglishLexicon.keys():\n",
    "            num +=1\n",
    "            p+=EnglishLexicon[w]\n",
    "    return p, num"
   ]
  },
  {
   "cell_type": "markdown",
   "metadata": {},
   "source": [
    "#### SentiWordNet\n",
    "\n",
    "Here is the very first five lines of the csv file 'sentiWordnetBig.csv':\n",
    "\n",
    "|POS|ID|PosSCore|NegScore|SynsetTerms|\n",
    "|-|-------|-----|-----|-------------------|\n",
    "|a|1740|0.125|0|able#1|\n",
    "|a|2098|0|0.75|unable#1|\n",
    "|a|2312|0|0|dorsal#2 abaxial#1|\n",
    "|a|2527|0|0|ventral#2 adaxial#1|\n",
    "|a|2730|0|0|acroscopic#1|"
   ]
  },
  {
   "cell_type": "code",
   "execution_count": 24,
   "metadata": {
    "collapsed": false
   },
   "outputs": [
    {
     "name": "stdout",
     "output_type": "stream",
     "text": [
      "Opening the SentiWordnet file ...\n",
      "Loading...\n",
      "Number of sentiWordnet entries 294612\n"
     ]
    }
   ],
   "source": [
    "def loadSentiWordnet(filename): \n",
    "    output={}\n",
    "    print (\"Opening the SentiWordnet file ...\")\n",
    "    fi=open(filename,\"r\")\n",
    "    line=fi.readline() # ignore the header\n",
    "    line=fi.readline()\n",
    "    print (\"Loading...\")\n",
    "\n",
    "    while line:\n",
    "        l=line.split('\\t')\n",
    "        try:\n",
    "            sentence=l[4]\n",
    "            new = [word for word in sentence.split() if (word[-2] == \"#\" and word[-1].isdigit())]\n",
    "            pos=abs(float(l[2]))\n",
    "            neg=abs(float(l[3]))\n",
    "            neu=float(pos-neg)\n",
    "        except:\n",
    "            line=fi.readline()\n",
    "            continue\n",
    "\n",
    "        for w in new:\n",
    "            output[(w[:-2])]=neu\n",
    "            output[(w[:-2])+'_not'] = -neu   #negation\n",
    "        line=fi.readline()\n",
    "        \n",
    "    fi.close()\n",
    "    return output\n",
    "\n",
    "\n",
    "sentiWordnet = loadSentiWordnet('./resources/sentiWordnetBig.csv')\n",
    "print (\"Number of sentiWordnet entries %d\" % len(sentiWordnet.keys()))\n",
    "\n",
    "\n",
    "\n",
    "def WordnetPolarity(tweet, sentiWordnet):\n",
    "    p=0.0\n",
    "    num = 0\n",
    "    for w in tweet:\n",
    "        if w in sentiWordnet.keys():\n",
    "            num += 1\n",
    "            p+=sentiWordnet[w]\n",
    "    return p, num"
   ]
  },
  {
   "cell_type": "markdown",
   "metadata": {},
   "source": [
    "### Polarity calculation"
   ]
  },
  {
   "cell_type": "code",
   "execution_count": 25,
   "metadata": {
    "collapsed": false
   },
   "outputs": [
    {
     "name": "stdout",
     "output_type": "stream",
     "text": [
      "(7205, 4)\n"
     ]
    },
    {
     "data": {
      "text/html": [
       "<div>\n",
       "<table border=\"1\" class=\"dataframe\">\n",
       "  <thead>\n",
       "    <tr style=\"text-align: right;\">\n",
       "      <th></th>\n",
       "      <th>bing_mpqa_score</th>\n",
       "      <th>afinn_score</th>\n",
       "      <th>wordnet_score</th>\n",
       "      <th>sem_eval_score</th>\n",
       "      <th>final_score</th>\n",
       "      <th>final_tweets</th>\n",
       "      <th>2</th>\n",
       "    </tr>\n",
       "  </thead>\n",
       "  <tbody>\n",
       "    <tr>\n",
       "      <th>0</th>\n",
       "      <td>0.009805</td>\n",
       "      <td>0.008657</td>\n",
       "      <td>-0.004690</td>\n",
       "      <td>0.009668</td>\n",
       "      <td>0.023439</td>\n",
       "      <td>Gas house hit going Chapel Hill Sat positive</td>\n",
       "      <td>positive</td>\n",
       "    </tr>\n",
       "    <tr>\n",
       "      <th>3</th>\n",
       "      <td>0.019610</td>\n",
       "      <td>0.017313</td>\n",
       "      <td>0.002345</td>\n",
       "      <td>0.017601</td>\n",
       "      <td>0.056869</td>\n",
       "      <td>Iranian general says Israel's Iron Dome deal_n...</td>\n",
       "      <td>negative</td>\n",
       "    </tr>\n",
       "    <tr>\n",
       "      <th>6</th>\n",
       "      <td>0.009805</td>\n",
       "      <td>0.008657</td>\n",
       "      <td>0.011725</td>\n",
       "      <td>0.007132</td>\n",
       "      <td>0.037319</td>\n",
       "      <td>J Davlar th Main rivals team Poland Hopefully ...</td>\n",
       "      <td>positive</td>\n",
       "    </tr>\n",
       "    <tr>\n",
       "      <th>7</th>\n",
       "      <td>0.000000</td>\n",
       "      <td>0.000000</td>\n",
       "      <td>-0.011725</td>\n",
       "      <td>-0.000162</td>\n",
       "      <td>-0.011888</td>\n",
       "      <td>Talking ACT's SAT's deciding want go college a...</td>\n",
       "      <td>negative</td>\n",
       "    </tr>\n",
       "    <tr>\n",
       "      <th>9</th>\n",
       "      <td>-0.009805</td>\n",
       "      <td>-0.008657</td>\n",
       "      <td>-0.011725</td>\n",
       "      <td>-0.008562</td>\n",
       "      <td>-0.038749</td>\n",
       "      <td>may SuperBowl Dallas Dallas winning_not SuperB...</td>\n",
       "      <td>negative</td>\n",
       "    </tr>\n",
       "    <tr>\n",
       "      <th>10</th>\n",
       "      <td>0.000000</td>\n",
       "      <td>0.000000</td>\n",
       "      <td>-0.011725</td>\n",
       "      <td>-0.001745</td>\n",
       "      <td>-0.013470</td>\n",
       "      <td>Instant message bringing monster load candy to...</td>\n",
       "      <td>neutral</td>\n",
       "    </tr>\n",
       "    <tr>\n",
       "      <th>11</th>\n",
       "      <td>0.000000</td>\n",
       "      <td>0.000000</td>\n",
       "      <td>0.000000</td>\n",
       "      <td>0.000000</td>\n",
       "      <td>0.000000</td>\n",
       "      <td>Apple software retail chiefs overhaul SAN FRAN...</td>\n",
       "      <td>neutral</td>\n",
       "    </tr>\n",
       "    <tr>\n",
       "      <th>12</th>\n",
       "      <td>0.019610</td>\n",
       "      <td>0.017313</td>\n",
       "      <td>0.007035</td>\n",
       "      <td>0.018555</td>\n",
       "      <td>0.062513</td>\n",
       "      <td>watched Sridevi's comeback remember Sun mornin...</td>\n",
       "      <td>positive</td>\n",
       "    </tr>\n",
       "    <tr>\n",
       "      <th>14</th>\n",
       "      <td>0.000000</td>\n",
       "      <td>0.000000</td>\n",
       "      <td>0.002345</td>\n",
       "      <td>0.006817</td>\n",
       "      <td>0.009162</td>\n",
       "      <td>#Livewire Nadal confirmed Mexican Open Februar...</td>\n",
       "      <td>neutral</td>\n",
       "    </tr>\n",
       "    <tr>\n",
       "      <th>15</th>\n",
       "      <td>0.019610</td>\n",
       "      <td>0.017313</td>\n",
       "      <td>-0.002345</td>\n",
       "      <td>0.022247</td>\n",
       "      <td>0.056825</td>\n",
       "      <td>didnt want pop yep chapel hill next wednesday ...</td>\n",
       "      <td>positive</td>\n",
       "    </tr>\n",
       "  </tbody>\n",
       "</table>\n",
       "</div>"
      ],
      "text/plain": [
       "    bing_mpqa_score  afinn_score  wordnet_score  sem_eval_score  final_score  \\\n",
       "0          0.009805     0.008657      -0.004690        0.009668     0.023439   \n",
       "3          0.019610     0.017313       0.002345        0.017601     0.056869   \n",
       "6          0.009805     0.008657       0.011725        0.007132     0.037319   \n",
       "7          0.000000     0.000000      -0.011725       -0.000162    -0.011888   \n",
       "9         -0.009805    -0.008657      -0.011725       -0.008562    -0.038749   \n",
       "10         0.000000     0.000000      -0.011725       -0.001745    -0.013470   \n",
       "11         0.000000     0.000000       0.000000        0.000000     0.000000   \n",
       "12         0.019610     0.017313       0.007035        0.018555     0.062513   \n",
       "14         0.000000     0.000000       0.002345        0.006817     0.009162   \n",
       "15         0.019610     0.017313      -0.002345        0.022247     0.056825   \n",
       "\n",
       "                                         final_tweets         2  \n",
       "0        Gas house hit going Chapel Hill Sat positive  positive  \n",
       "3   Iranian general says Israel's Iron Dome deal_n...  negative  \n",
       "6   J Davlar th Main rivals team Poland Hopefully ...  positive  \n",
       "7   Talking ACT's SAT's deciding want go college a...  negative  \n",
       "9   may SuperBowl Dallas Dallas winning_not SuperB...  negative  \n",
       "10  Instant message bringing monster load candy to...   neutral  \n",
       "11  Apple software retail chiefs overhaul SAN FRAN...   neutral  \n",
       "12  watched Sridevi's comeback remember Sun mornin...  positive  \n",
       "14  #Livewire Nadal confirmed Mexican Open Februar...   neutral  \n",
       "15  didnt want pop yep chapel hill next wednesday ...  positive  "
      ]
     },
     "execution_count": 25,
     "metadata": {},
     "output_type": "execute_result"
    }
   ],
   "source": [
    "BingMpqaScore = []\n",
    "AfinnScore, AfinnReps = [], []\n",
    "WordnetScore, WordnetReps = [], []\n",
    "SemEvalScore, SemEvalReps = [], []\n",
    "length = len(raw_tweets_bing)\n",
    "\n",
    "for tw in raw_tweets_bing:\n",
    "    Bing_MPQA = 0\n",
    "    for i in tw:\n",
    "        if (i == 'positive'):\n",
    "            Bing_MPQA +=  1\n",
    "        if (i == 'negative'):\n",
    "            Bing_MPQA -= 1\n",
    "    BingMpqaScore.append(Bing_MPQA)\n",
    "    tmp = afinnPolarity(tw, afinn)\n",
    "    AfinnScore.append(tmp[0])\n",
    "    AfinnReps.append(tmp[1])\n",
    "    tmp = WordnetPolarity(tw, sentiWordnet)\n",
    "    WordnetScore.append(tmp[0])\n",
    "    WordnetReps.append(tmp[1])\n",
    "    tmp = SemEvalLexiconPolarity(tw, EnglishLexicon)\n",
    "    SemEvalScore.append(tmp[0])\n",
    "    SemEvalReps.append(tmp[1])\n",
    "\n",
    "    \n",
    "#reshape\n",
    "BingMpqaScore = np.array(BingMpqaScore).reshape(length, 1)\n",
    "AfinnScore = np.array(AfinnScore).reshape(length, 1)\n",
    "AfinnReps = np.array(AfinnReps).reshape(length, 1)\n",
    "WordnetScore = np.array(WordnetScore).reshape(length, 1)\n",
    "WordnetReps = np.array(WordnetReps).reshape(length, 1)\n",
    "SemEvalScore = np.array(SemEvalScore).reshape(length, 1)\n",
    "SemEvalReps = np.array(SemEvalReps).reshape(length, 1)\n",
    "\n",
    "#Normalization\n",
    "BingMpqaScore = BingMpqaScore/np.linalg.norm(BingMpqaScore)\n",
    "AfinnScore = AfinnScore/np.linalg.norm(AfinnScore)\n",
    "AfinnReps = AfinnReps/np.linalg.norm(AfinnReps)\n",
    "WordnetScore = WordnetScore/np.linalg.norm(WordnetScore)\n",
    "WordnetReps = WordnetReps/np.linalg.norm(WordnetReps)\n",
    "SemEvalScore = SemEvalScore/np.linalg.norm(SemEvalScore)\n",
    "SemEvalReps = SemEvalReps/np.linalg.norm(SemEvalReps)\n",
    "\n",
    "\n",
    "#final_score_tweets (my score list)\n",
    "df['bing_mpqa_score'] = BingMpqaScore\n",
    "df['afinn_score'] = AfinnScore\n",
    "df['wordnet_score'] = WordnetScore\n",
    "df['sem_eval_score'] = SemEvalScore\n",
    "total = np.hstack( (BingMpqaScore, AfinnScore, WordnetScore, SemEvalScore) )\n",
    "final = np.sum(total, axis=1).reshape(length, 1)\n",
    "print (total.shape)\n",
    "df['final_score'] = final\n",
    "\n",
    "df[['bing_mpqa_score','afinn_score', 'wordnet_score', 'sem_eval_score','final_score', 'final_tweets' ,2]].head(10)"
   ]
  },
  {
   "cell_type": "markdown",
   "metadata": {},
   "source": [
    "##### Comparing the scores with the real results, we can conclude that the use of lexicon does not give very good results ... We must add scores for bi-grams.\n",
    "##### You must then combine the lexicon / machine learning!"
   ]
  },
  {
   "cell_type": "code",
   "execution_count": 26,
   "metadata": {
    "collapsed": false
   },
   "outputs": [],
   "source": [
    "del df, raw_tweets_bing"
   ]
  },
  {
   "cell_type": "markdown",
   "metadata": {},
   "source": [
    "***\n",
    "## <font color='red'>Train the model</font>\n",
    "***\n",
    "#### Create a feature vector\n",
    "* See [Bag of Words](https://en.wikipedia.org/wiki/Bag-of-words_model) for more details"
   ]
  },
  {
   "cell_type": "code",
   "execution_count": 27,
   "metadata": {
    "collapsed": false
   },
   "outputs": [
    {
     "data": {
      "text/plain": [
       "(7205, 139389)"
      ]
     },
     "execution_count": 27,
     "metadata": {},
     "output_type": "execute_result"
    }
   ],
   "source": [
    "from sklearn.feature_extraction.text import CountVectorizer\n",
    "from sklearn.feature_extraction.text import TfidfVectorizer\n",
    "\n",
    "vectorizer = TfidfVectorizer(analyzer='word', preprocessor=None, stop_words=None, tokenizer=None,  ngram_range=(1,3))\n",
    "features = vectorizer.fit_transform(final_tweets)\n",
    "del final_tweets\n",
    "features.shape"
   ]
  },
  {
   "cell_type": "code",
   "execution_count": 28,
   "metadata": {
    "collapsed": false
   },
   "outputs": [
    {
     "name": "stdout",
     "output_type": "stream",
     "text": [
      "(7205, 4) (7205, 1) (7205, 1) (7205, 1) (7205, 1)\n",
      "<class 'scipy.sparse.csr.csr_matrix'>\n",
      "(7205, 8)\n"
     ]
    }
   ],
   "source": [
    "print (total.shape, final.shape, AfinnReps.shape, WordnetReps.shape, SemEvalReps.shape)\n",
    "final_total = scipy.sparse.csr_matrix(np.hstack( (total, final, AfinnReps, WordnetReps, SemEvalReps) ))\n",
    "print (type(final_total))\n",
    "print (final_total.shape)"
   ]
  },
  {
   "cell_type": "code",
   "execution_count": 29,
   "metadata": {
    "collapsed": false
   },
   "outputs": [
    {
     "name": "stdout",
     "output_type": "stream",
     "text": [
      "(7205, 139397)\n"
     ]
    }
   ],
   "source": [
    "features = scipy.sparse.hstack([features, final_total])\n",
    "print (features.shape)"
   ]
  },
  {
   "cell_type": "code",
   "execution_count": 30,
   "metadata": {
    "collapsed": true
   },
   "outputs": [],
   "source": [
    "# delete unnecessary data objects\n",
    "del total, final, final_total, BingMpqaScore, AfinnScore, WordnetScore, SemEvalScore\n",
    "del AfinnReps, WordnetReps, SemEvalReps"
   ]
  },
  {
   "cell_type": "markdown",
   "metadata": {},
   "source": [
    "\n",
    "#### Put labels to train"
   ]
  },
  {
   "cell_type": "code",
   "execution_count": 31,
   "metadata": {
    "collapsed": false
   },
   "outputs": [
    {
     "data": {
      "text/plain": [
       "(7205,)"
      ]
     },
     "execution_count": 31,
     "metadata": {},
     "output_type": "execute_result"
    }
   ],
   "source": [
    "mapper = {'positive': 1, 'negative': -1, 'neutral': 0}\n",
    "\n",
    "labels = labels.map(mapper)\n",
    "labels.shape"
   ]
  },
  {
   "cell_type": "markdown",
   "metadata": {},
   "source": [
    "### Features selection\n",
    "\n",
    "##### To install xgboost on mac : [Tuto](https://isaacchanghau.github.io/2017/06/20/Install-XGBoost-on-Mac-OS-X/) \n",
    "##### To install xgboost on ubuntu : [Tuto](https://gist.github.com/pratos/de49be8ec53378145ea0df0a04ea7b25) \n",
    "![title](./resources/img/Filter.png)\n",
    "\n",
    "Here, we are going to reduce our 'features' matrix from (7205, 67466) into "
   ]
  },
  {
   "cell_type": "code",
   "execution_count": 32,
   "metadata": {
    "collapsed": false
   },
   "outputs": [],
   "source": [
    "# from xgboost import XGBClassifier\n",
    "# from xgboost import plot_importance\n",
    "\n",
    "# from sklearn.model_selection import train_test_split\n",
    "# from numpy import sort\n",
    "\n",
    "# # fit model on all training data\n",
    "# model = XGBClassifier()\n",
    "# model.fit(features, labels)\n",
    "\n",
    "# thresholds = sort(model.feature_importances_)\n",
    "# print (len(thresholds))\n",
    "# thresholds"
   ]
  },
  {
   "cell_type": "code",
   "execution_count": 33,
   "metadata": {
    "collapsed": false
   },
   "outputs": [],
   "source": [
    "# from sklearn.feature_selection import SelectFromModel\n",
    "# ## Takes two hours for execution\n",
    "\n",
    "# i = 0\n",
    "# for thresh in thresholds:\n",
    "#     if i%5000 == 0:\n",
    "#         print (i)\n",
    "#     # select features using threshold\n",
    "#     selection = SelectFromModel(model, threshold=thresh, prefit=True)    \n",
    "#     select_X_train = selection.transform(features)\n",
    "#     i += 1\n",
    "    \n",
    "# select_X_train.shape"
   ]
  },
  {
   "cell_type": "code",
   "execution_count": 34,
   "metadata": {
    "collapsed": false
   },
   "outputs": [],
   "source": [
    "# import pickle\n",
    "\n",
    "# pickle.dump( select_X_train, open(\"selected_features.pickle\", \"wb\") )"
   ]
  },
  {
   "cell_type": "code",
   "execution_count": 35,
   "metadata": {
    "collapsed": true
   },
   "outputs": [],
   "source": [
    "# features = select_X_train"
   ]
  },
  {
   "cell_type": "markdown",
   "metadata": {},
   "source": [
    "#### Import SVM\n",
    "\n",
    "http://scikit-learn.org/stable/modules/svm.html\n",
    "\n",
    "For a mathematical overview,\n",
    "https://docs.opencv.org/2.4/doc/tutorials/ml/introduction_to_svm/introduction_to_svm.html"
   ]
  },
  {
   "cell_type": "markdown",
   "metadata": {},
   "source": [
    "#### Get the optimal regulation parameter using handout method"
   ]
  },
  {
   "cell_type": "code",
   "execution_count": 36,
   "metadata": {
    "collapsed": false
   },
   "outputs": [
    {
     "name": "stdout",
     "output_type": "stream",
     "text": [
      "Max value of 0.997 occured at C=3.900\n"
     ]
    },
    {
     "data": {
      "text/plain": [
       "<matplotlib.text.Text at 0x7f61230d85c0>"
      ]
     },
     "execution_count": 36,
     "metadata": {},
     "output_type": "execute_result"
    },
    {
     "data": {
      "image/png": "[encoded data removed]",
      "text/plain": [
       "<matplotlib.figure.Figure at 0x7f61690a9668>"
      ]
     },
     "metadata": {},
     "output_type": "display_data"
    }
   ],
   "source": [
    "# Takes around 15-20 minutes without the feature selection part\n",
    "# Takes a couple of miniutes after the feature selection\n",
    "\n",
    "KERNEL = 'linear'\n",
    "C_start = 0.1\n",
    "C_end = 4.0\n",
    "C_inc = 0.20\n",
    "\n",
    "C_values, precision_scores = [], []\n",
    "\n",
    "C_val = C_start\n",
    "best_precision_score = 0\n",
    "while (C_val < C_end):\n",
    "    C_values.append(C_val)\n",
    "    svc_model_loop = SVC(C=C_val, kernel=KERNEL, random_state=42)\n",
    "    svc_model_loop.fit(features, labels.ravel())\n",
    "    svc_predict_loop_test = svc_model_loop.predict(features)\n",
    "    \n",
    "    precision_score = metrics.precision_score(labels, svc_predict_loop_test, average='micro')\n",
    "    precision_scores.append(precision_score)\n",
    "    if (precision_score > best_precision_score):\n",
    "        best_precision_score = precision_score\n",
    "        best_lr_predict_test = svc_predict_loop_test\n",
    "        \n",
    "    C_val = C_val + C_inc\n",
    "\n",
    "best_score_C_val = C_values[precision_scores.index(best_precision_score)]\n",
    "print(\"Max value of {0:.3f} occured at C={1:.3f}\".format(best_precision_score, best_score_C_val))\n",
    "\n",
    "%matplotlib inline \n",
    "plt.plot(C_values, precision_scores, \"-\")\n",
    "plt.xlabel(\"C value\")\n",
    "plt.ylabel(\"precision score\")"
   ]
  },
  {
   "cell_type": "code",
   "execution_count": 37,
   "metadata": {
    "collapsed": false
   },
   "outputs": [
    {
     "data": {
      "text/plain": [
       "SVC(C=3.9000000000000012, cache_size=200, class_weight=None, coef0=0.0,\n",
       "  decision_function_shape=None, degree=3, gamma='auto', kernel='linear',\n",
       "  max_iter=-1, probability=False, random_state=None, shrinking=True,\n",
       "  tol=0.001, verbose=False)"
      ]
     },
     "execution_count": 37,
     "metadata": {},
     "output_type": "execute_result"
    }
   ],
   "source": [
    "# best_score_C_val = 1.300\n",
    "KERNEL = 'linear'\n",
    "classifier = SVC(kernel=KERNEL, C=best_score_C_val)\n",
    "classifier.fit(features, labels)"
   ]
  },
  {
   "cell_type": "markdown",
   "metadata": {},
   "source": [
    "#### Prediction on training data"
   ]
  },
  {
   "cell_type": "code",
   "execution_count": 38,
   "metadata": {
    "collapsed": false
   },
   "outputs": [
    {
     "name": "stdout",
     "output_type": "stream",
     "text": [
      "Accuracy: 0.9971\n"
     ]
    }
   ],
   "source": [
    "from sklearn import metrics\n",
    "\n",
    "nb_predict_train = classifier.predict(features)\n",
    "#check accuracy\n",
    "print(\"Accuracy: {:0.4f}\".format(metrics.accuracy_score(labels, nb_predict_train)))\n",
    "del features"
   ]
  },
  {
   "cell_type": "code",
   "execution_count": 39,
   "metadata": {
    "collapsed": false
   },
   "outputs": [
    {
     "name": "stdout",
     "output_type": "stream",
     "text": [
      "[[2681    1   10]\n",
      " [   2 1015    7]\n",
      " [   1    0 3488]]\n",
      "             precision    recall  f1-score   support\n",
      "\n",
      "          1       1.00      1.00      1.00      2692\n",
      "         -1       1.00      0.99      1.00      1024\n",
      "          0       1.00      1.00      1.00      3489\n",
      "\n",
      "avg / total       1.00      1.00      1.00      7205\n",
      "\n"
     ]
    }
   ],
   "source": [
    "#print confusion matrix\n",
    "print(\"{}\".format(metrics.confusion_matrix(labels, nb_predict_train, labels=[1,-1, 0])))\n",
    "\n",
    "print(\"{}\".format(metrics.classification_report(labels, nb_predict_train, labels=[1, -1, 0])))"
   ]
  },
  {
   "cell_type": "markdown",
   "metadata": {},
   "source": [
    "### Predict using the model\n",
    "***"
   ]
  },
  {
   "cell_type": "markdown",
   "metadata": {},
   "source": [
    "#### Import test data"
   ]
  },
  {
   "cell_type": "code",
   "execution_count": 40,
   "metadata": {
    "collapsed": false
   },
   "outputs": [
    {
     "data": {
      "text/plain": [
       "(8902, 4)"
      ]
     },
     "execution_count": 40,
     "metadata": {},
     "output_type": "execute_result"
    }
   ],
   "source": [
    "t_df = pd.read_csv('./data/test/actual/test_B_labeled.tsv', sep='\\t', header=None)\n",
    "t_df.shape"
   ]
  },
  {
   "cell_type": "code",
   "execution_count": 41,
   "metadata": {
    "collapsed": false
   },
   "outputs": [
    {
     "data": {
      "text/plain": [
       "(7584, 4)"
      ]
     },
     "execution_count": 41,
     "metadata": {},
     "output_type": "execute_result"
    }
   ],
   "source": [
    "t_df = t_df[t_df[3] != 'Not Available']\n",
    "t_df.shape"
   ]
  },
  {
   "cell_type": "code",
   "execution_count": 42,
   "metadata": {
    "collapsed": false
   },
   "outputs": [
    {
     "data": {
      "image/png": "[encoded data removed]",
      "text/plain": [
       "<matplotlib.figure.Figure at 0x7f6123a30f28>"
      ]
     },
     "metadata": {},
     "output_type": "display_data"
    }
   ],
   "source": [
    "# The bar chart for the test data set\n",
    "\n",
    "y = [len(t_df[t_df[2] == i]) for i in ['positive', 'negative', 'neutral']]\n",
    "x = ['positive', 'negative', 'neutral']\n",
    "x_pos = range(len(x))\n",
    "\n",
    "plt.figure(figsize=(10,8))\n",
    "plt.bar(x_pos, y, alpha=0.5)\n",
    "plt.xticks(x_pos, x)\n",
    "plt.ylabel('# Occurences').set_size(15)\n",
    "plt.xlabel('Classes').set_size(15)"
   ]
  },
  {
   "cell_type": "markdown",
   "metadata": {},
   "source": [
    "#### Pre-process tweets from the test dataset"
   ]
  },
  {
   "cell_type": "code",
   "execution_count": 43,
   "metadata": {
    "collapsed": false
   },
   "outputs": [],
   "source": [
    "raw_tweets_test = t_df[3]\n",
    "raw_tweets_test = [subsEmoticon(tweet, emoticon_dict) for tweet in raw_tweets_test]\n",
    "raw_tweets_test = [replaceSlangs(tweet, slangs) for tweet in raw_tweets_test]\n",
    "raw_tweets_test = [replace_apostrophe(tweet, apos) for tweet in raw_tweets_test]\n",
    "raw_tweets_test = [handle_negation(tweet) for tweet in raw_tweets_test]\n",
    "preprocessed_tweets_test = [preprocess(tweet) for tweet in raw_tweets_test]\n",
    "final_tweets_test = [rem_stop(tweet) for tweet in preprocessed_tweets_test]\n",
    "t_df[3] = final_tweets_test\n",
    "\n",
    "del raw_tweets_test, preprocessed_tweets_test"
   ]
  },
  {
   "cell_type": "code",
   "execution_count": 44,
   "metadata": {
    "collapsed": false
   },
   "outputs": [
    {
     "name": "stdout",
     "output_type": "stream",
     "text": [
      "(7584, 4)\n"
     ]
    }
   ],
   "source": [
    "t_raw_tweets_MPQA = [subsMPQA(tweet,dictionary) for tweet in final_tweets_test]\n",
    "t_raw_tweets_bing = [subsBINGP(tweet, expanded_pos) for tweet in t_raw_tweets_MPQA]\n",
    "t_raw_tweets_bing = [subsBINGN(tweet, expanded_neg) for tweet in t_raw_tweets_MPQA]\n",
    "\n",
    "t_BingMpqaScore = []\n",
    "t_AfinnScore, t_AfinnReps = [], []\n",
    "t_WordnetScore, t_WordnetReps = [], []\n",
    "t_SemEvalScore, t_SemEvalReps = [], []\n",
    "t_length = len(t_raw_tweets_bing)\n",
    "\n",
    "for tw in t_raw_tweets_bing:\n",
    "    Bing_MPQA = 0\n",
    "    for i in tw:\n",
    "        if (i == 'positive'):\n",
    "            Bing_MPQA +=  1\n",
    "        if (i == 'negative'):\n",
    "            Bing_MPQA -= 1\n",
    "    t_BingMpqaScore.append(Bing_MPQA)\n",
    "    tmp = afinnPolarity(tw, afinn)\n",
    "    t_AfinnScore.append(tmp[0])\n",
    "    t_AfinnReps.append(tmp[1])\n",
    "    tmp = WordnetPolarity(tw, sentiWordnet)\n",
    "    t_WordnetScore.append(tmp[0])\n",
    "    t_WordnetReps.append(tmp[1])\n",
    "    tmp = SemEvalLexiconPolarity(tw, EnglishLexicon)\n",
    "    t_SemEvalScore.append(tmp[0])\n",
    "    t_SemEvalReps.append(tmp[1])\n",
    "\n",
    "    \n",
    "#reshape\n",
    "t_BingMpqaScore = np.array(t_BingMpqaScore).reshape(t_length, 1)\n",
    "t_AfinnScore = np.array(t_AfinnScore).reshape(t_length, 1)\n",
    "t_AfinnReps = np.array(t_AfinnReps).reshape(t_length, 1)\n",
    "t_WordnetScore = np.array(t_WordnetScore).reshape(t_length, 1)\n",
    "t_WordnetReps = np.array(t_WordnetReps).reshape(t_length, 1)\n",
    "t_SemEvalScore = np.array(t_SemEvalScore).reshape(t_length, 1)\n",
    "t_SemEvalReps = np.array(t_SemEvalReps).reshape(t_length, 1)\n",
    "\n",
    "#Normalization\n",
    "t_BingMpqaScore = t_BingMpqaScore/np.linalg.norm(t_BingMpqaScore)\n",
    "t_AfinnScore = t_AfinnScore/np.linalg.norm(t_AfinnScore)\n",
    "t_AfinnReps = t_AfinnReps/np.linalg.norm(t_AfinnReps)\n",
    "t_WordnetScore = t_WordnetScore/np.linalg.norm(t_WordnetScore)\n",
    "t_WordnetReps = t_WordnetReps/np.linalg.norm(t_WordnetReps)\n",
    "t_SemEvalScore = t_SemEvalScore/np.linalg.norm(t_SemEvalScore)\n",
    "t_SemEvalReps = t_SemEvalReps/np.linalg.norm(t_SemEvalReps)\n",
    "\n",
    "\n",
    "t_total = np.hstack( (t_BingMpqaScore, t_AfinnScore, t_WordnetScore, t_SemEvalScore) )\n",
    "t_final = np.sum(t_total, axis=1).reshape(t_length, 1)\n",
    "print (t_total.shape)\n",
    "\n",
    "# Delete\n",
    "del t_raw_tweets_MPQA, t_raw_tweets_bing"
   ]
  },
  {
   "cell_type": "code",
   "execution_count": 45,
   "metadata": {
    "collapsed": false
   },
   "outputs": [
    {
     "data": {
      "text/html": [
       "<div>\n",
       "<table border=\"1\" class=\"dataframe\">\n",
       "  <thead>\n",
       "    <tr style=\"text-align: right;\">\n",
       "      <th></th>\n",
       "      <th>0</th>\n",
       "      <th>1</th>\n",
       "      <th>2</th>\n",
       "      <th>3</th>\n",
       "    </tr>\n",
       "  </thead>\n",
       "  <tbody>\n",
       "    <tr>\n",
       "      <th>2</th>\n",
       "      <td>282031301962395648</td>\n",
       "      <td>T14111200</td>\n",
       "      <td>neutral</td>\n",
       "      <td>dec st know end_not world_not Baby_not Boom_no...</td>\n",
       "    </tr>\n",
       "    <tr>\n",
       "      <th>3</th>\n",
       "      <td>11975</td>\n",
       "      <td>SM112166</td>\n",
       "      <td>negative</td>\n",
       "      <td>Yar quite clever aft many guesses lor got ask ...</td>\n",
       "    </tr>\n",
       "    <tr>\n",
       "      <th>4</th>\n",
       "      <td>136592</td>\n",
       "      <td>LJ112295</td>\n",
       "      <td>negative</td>\n",
       "      <td>Yeah Thin Lizzy HATE informercials</td>\n",
       "    </tr>\n",
       "    <tr>\n",
       "      <th>5</th>\n",
       "      <td>253421252956545024</td>\n",
       "      <td>T13114433</td>\n",
       "      <td>neutral</td>\n",
       "      <td>MT #Syria Deir Ezzor Ali Bashar altheeb martyr...</td>\n",
       "    </tr>\n",
       "    <tr>\n",
       "      <th>6</th>\n",
       "      <td>220880422320603137</td>\n",
       "      <td>T14114138</td>\n",
       "      <td>negative</td>\n",
       "      <td>hate life see_not roskilde_not festival_not sa...</td>\n",
       "    </tr>\n",
       "  </tbody>\n",
       "</table>\n",
       "</div>"
      ],
      "text/plain": [
       "                    0          1         2  \\\n",
       "2  282031301962395648  T14111200   neutral   \n",
       "3               11975   SM112166  negative   \n",
       "4              136592   LJ112295  negative   \n",
       "5  253421252956545024  T13114433   neutral   \n",
       "6  220880422320603137  T14114138  negative   \n",
       "\n",
       "                                                   3  \n",
       "2  dec st know end_not world_not Baby_not Boom_no...  \n",
       "3  Yar quite clever aft many guesses lor got ask ...  \n",
       "4                 Yeah Thin Lizzy HATE informercials  \n",
       "5  MT #Syria Deir Ezzor Ali Bashar altheeb martyr...  \n",
       "6  hate life see_not roskilde_not festival_not sa...  "
      ]
     },
     "execution_count": 45,
     "metadata": {},
     "output_type": "execute_result"
    }
   ],
   "source": [
    "t_df.head()"
   ]
  },
  {
   "cell_type": "markdown",
   "metadata": {},
   "source": [
    "#### Create the features vector"
   ]
  },
  {
   "cell_type": "code",
   "execution_count": 46,
   "metadata": {
    "collapsed": false
   },
   "outputs": [
    {
     "data": {
      "text/plain": [
       "(7584, 139389)"
      ]
     },
     "execution_count": 46,
     "metadata": {},
     "output_type": "execute_result"
    }
   ],
   "source": [
    "test_features = vectorizer.transform(final_tweets_test)\n",
    "test_features.shape"
   ]
  },
  {
   "cell_type": "code",
   "execution_count": 47,
   "metadata": {
    "collapsed": false
   },
   "outputs": [
    {
     "name": "stdout",
     "output_type": "stream",
     "text": [
      "(7584, 8)\n"
     ]
    }
   ],
   "source": [
    "t_final_total = scipy.sparse.csr_matrix(np.hstack( (t_total, t_final, t_AfinnReps, t_WordnetReps, t_SemEvalReps) ))\n",
    "print (t_final_total.shape)\n",
    "test_features = scipy.sparse.hstack([test_features, t_final_total])\n",
    "del t_total, t_final, t_final_total, t_BingMpqaScore, t_AfinnScore, t_WordnetScore, t_SemEvalScore\n",
    "del t_AfinnReps, t_WordnetReps, t_SemEvalReps"
   ]
  },
  {
   "cell_type": "markdown",
   "metadata": {},
   "source": [
    "#### Get labels from a set of test data"
   ]
  },
  {
   "cell_type": "code",
   "execution_count": 48,
   "metadata": {
    "collapsed": false,
    "scrolled": true
   },
   "outputs": [
    {
     "data": {
      "text/plain": [
       "(7584,)"
      ]
     },
     "execution_count": 48,
     "metadata": {},
     "output_type": "execute_result"
    }
   ],
   "source": [
    "actual_labels = t_df[2]\n",
    "actual_labels = actual_labels.map(mapper)\n",
    "actual_labels.shape"
   ]
  },
  {
   "cell_type": "markdown",
   "metadata": {},
   "source": [
    "#### Predict labels using the template"
   ]
  },
  {
   "cell_type": "code",
   "execution_count": 49,
   "metadata": {
    "collapsed": false
   },
   "outputs": [],
   "source": [
    "predicted_labels = classifier.predict(test_features)"
   ]
  },
  {
   "cell_type": "markdown",
   "metadata": {},
   "source": [
    "### Evaluate the Model\n",
    "***"
   ]
  },
  {
   "cell_type": "markdown",
   "metadata": {},
   "source": [
    "#### Evaluate the accuracy"
   ]
  },
  {
   "cell_type": "code",
   "execution_count": 50,
   "metadata": {
    "collapsed": false,
    "scrolled": true
   },
   "outputs": [
    {
     "name": "stdout",
     "output_type": "stream",
     "text": [
      "Accuracy: 66.19%\n"
     ]
    }
   ],
   "source": [
    "print('Accuracy: {:0.2f}%'.format(metrics.accuracy_score(actual_labels, predicted_labels) * 100))"
   ]
  },
  {
   "cell_type": "markdown",
   "metadata": {},
   "source": [
    "#### Accuracy of cross-validation 10 times on test data"
   ]
  },
  {
   "cell_type": "code",
   "execution_count": 51,
   "metadata": {
    "collapsed": false
   },
   "outputs": [],
   "source": [
    "# from sklearn import model_selection\n",
    "\n",
    "# scores = model_selection.cross_val_score(classifier, test_features, actual_labels, cv=10, scoring='accuracy')\n",
    "# print(\"Accuracy: %0.2f (+/- %0.2f)\" % (scores.mean(), scores.std() * 2))\n",
    "# del test_features"
   ]
  },
  {
   "cell_type": "code",
   "execution_count": 52,
   "metadata": {
    "collapsed": false,
    "scrolled": true
   },
   "outputs": [
    {
     "name": "stdout",
     "output_type": "stream",
     "text": [
      "             precision    recall  f1-score   support\n",
      "\n",
      "         -1       0.65      0.40      0.49      1296\n",
      "          0       0.65      0.76      0.70      3448\n",
      "          1       0.68      0.67      0.67      2840\n",
      "\n",
      "avg / total       0.66      0.66      0.66      7584\n",
      "\n"
     ]
    }
   ],
   "source": [
    "# draw the classification report\n",
    "print('{}'.format(metrics.classification_report(actual_labels, predicted_labels)))"
   ]
  },
  {
   "cell_type": "markdown",
   "metadata": {},
   "source": [
    "See [Confusion Matrix](https://fr.wikipedia.org/wiki/Matrice_de_confusion) for more details\n"
   ]
  },
  {
   "cell_type": "code",
   "execution_count": 53,
   "metadata": {
    "collapsed": false,
    "scrolled": true
   },
   "outputs": [
    {
     "name": "stdout",
     "output_type": "stream",
     "text": [
      "[[1896  110  834]\n",
      " [ 224  518  554]\n",
      " [ 673  169 2606]]\n",
      "\n",
      "\u001b[31m\" macro f1 score \"\u001b[0m\n",
      "0.6228361912036645\n",
      "\n",
      "\u001b[31m\" micro f1 score \"\u001b[0m\n",
      "0.6619198312236287\n",
      "\n"
     ]
    }
   ],
   "source": [
    "# Confusion Matrix\n",
    "print('{}\\n'.format(metrics.confusion_matrix(actual_labels, predicted_labels, labels=[1,-1,0])))\n",
    "print(\"\\x1b[31m\\\" macro f1 score \\\"\\x1b[0m\")\n",
    "print('{}\\n'.format(metrics.f1_score(actual_labels, predicted_labels, average='macro')))\n",
    "print(\"\\x1b[31m\\\" micro f1 score \\\"\\x1b[0m\")\n",
    "print('{}\\n'.format(metrics.f1_score(actual_labels, predicted_labels, average='micro')))"
   ]
  },
  {
   "cell_type": "markdown",
   "metadata": {},
   "source": [
    "### Comparison with the 5 best teams of subtask B\n",
    "\n",
    "We compare our average f-score with the other teams in the workshop. The results are taken from the attached document:\n",
    "[Final report SemEval 2014 Subtask 9](http://www.aclweb.org/anthology/S14-2009)"
   ]
  },
  {
   "cell_type": "markdown",
   "metadata": {},
   "source": [
    "|Team|Accuracy (Macro Averaged)| Accuracy (Micro Averaged)|\n",
    "|----|-------------------------|--------------------------|\n",
    "|TeamX|65.63%|69.99%|\n",
    "|coooolll|63.23%|70.51%|\n",
    "|RTRGO|63.08%|70.15%|\n",
    "|NRC-Canada|67.62%|71.37%|\n",
    "|TUGAS|63.89%|68.84%|\n",
    "|**_ME_**|_57.48%_|_64.86%_|\n",
    "| | |***classement : 23 / 50***|\n",
    " "
   ]
  },
  {
   "cell_type": "code",
   "execution_count": null,
   "metadata": {
    "collapsed": true
   },
   "outputs": [],
   "source": []
  }
 ],
 "metadata": {
  "kernelspec": {
   "display_name": "Python 3",
   "language": "python",
   "name": "python3"
  },
  "language_info": {
   "codemirror_mode": {
    "name": "ipython",
    "version": 3
   },
   "file_extension": ".py",
   "mimetype": "text/x-python",
   "name": "python",
   "nbconvert_exporter": "python",
   "pygments_lexer": "ipython3",
   "version": "3.6.4"
  }
 },
 "nbformat": 4,
 "nbformat_minor": 2
}
